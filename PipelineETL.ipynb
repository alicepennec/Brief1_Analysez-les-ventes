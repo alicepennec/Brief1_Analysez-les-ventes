{
 "cells": [
  {
   "cell_type": "code",
   "execution_count": 1,
   "id": "80d32789-4815-4fe1-bc42-3680309349f2",
   "metadata": {},
   "outputs": [],
   "source": [
    "import pandas as pd\n",
    "import numpy as np\n",
    "import matplotlib.pyplot as plt\n",
    "import seaborn as sns\n",
    "import warnings as wr\n",
    "wr.filterwarnings('ignore')"
   ]
  },
  {
   "cell_type": "code",
   "execution_count": 2,
   "id": "3b9495de-4faf-41a7-8eb3-9a4834015a65",
   "metadata": {},
   "outputs": [
    {
     "data": {
      "text/html": [
       "<div>\n",
       "<style scoped>\n",
       "    .dataframe tbody tr th:only-of-type {\n",
       "        vertical-align: middle;\n",
       "    }\n",
       "\n",
       "    .dataframe tbody tr th {\n",
       "        vertical-align: top;\n",
       "    }\n",
       "\n",
       "    .dataframe thead th {\n",
       "        text-align: right;\n",
       "    }\n",
       "</style>\n",
       "<table border=\"1\" class=\"dataframe\">\n",
       "  <thead>\n",
       "    <tr style=\"text-align: right;\">\n",
       "      <th></th>\n",
       "      <th>id_prod</th>\n",
       "      <th>date</th>\n",
       "      <th>session_id</th>\n",
       "      <th>client_id</th>\n",
       "      <th>quantity_sold</th>\n",
       "    </tr>\n",
       "  </thead>\n",
       "  <tbody>\n",
       "    <tr>\n",
       "      <th>0</th>\n",
       "      <td>0_1483</td>\n",
       "      <td>2021-04-10 18:37:28.723910</td>\n",
       "      <td>s_18746</td>\n",
       "      <td>c_4450</td>\n",
       "      <td>5</td>\n",
       "    </tr>\n",
       "    <tr>\n",
       "      <th>1</th>\n",
       "      <td>2_226</td>\n",
       "      <td>2022-02-03 01:55:53.276402</td>\n",
       "      <td>s_159142</td>\n",
       "      <td>c_277</td>\n",
       "      <td>6</td>\n",
       "    </tr>\n",
       "    <tr>\n",
       "      <th>2</th>\n",
       "      <td>1_374</td>\n",
       "      <td>2021-09-23 15:13:46.938559</td>\n",
       "      <td>s_94290</td>\n",
       "      <td>c_4270</td>\n",
       "      <td>3</td>\n",
       "    </tr>\n",
       "    <tr>\n",
       "      <th>3</th>\n",
       "      <td>0_2186</td>\n",
       "      <td>2021-10-17 03:27:18.783634</td>\n",
       "      <td>s_105936</td>\n",
       "      <td>c_4597</td>\n",
       "      <td>8</td>\n",
       "    </tr>\n",
       "    <tr>\n",
       "      <th>4</th>\n",
       "      <td>0_1351</td>\n",
       "      <td>2021-07-17 20:34:25.800563</td>\n",
       "      <td>s_63642</td>\n",
       "      <td>c_1242</td>\n",
       "      <td>2</td>\n",
       "    </tr>\n",
       "  </tbody>\n",
       "</table>\n",
       "</div>"
      ],
      "text/plain": [
       "  id_prod                        date session_id client_id  quantity_sold\n",
       "0  0_1483  2021-04-10 18:37:28.723910    s_18746    c_4450              5\n",
       "1   2_226  2022-02-03 01:55:53.276402   s_159142     c_277              6\n",
       "2   1_374  2021-09-23 15:13:46.938559    s_94290    c_4270              3\n",
       "3  0_2186  2021-10-17 03:27:18.783634   s_105936    c_4597              8\n",
       "4  0_1351  2021-07-17 20:34:25.800563    s_63642    c_1242              2"
      ]
     },
     "execution_count": 2,
     "metadata": {},
     "output_type": "execute_result"
    }
   ],
   "source": [
    "ventes_df = pd.read_csv('C:/Users/Raux Familly/Documents/SIMPLON/Briefs/S1_141024/sources/ventes.csv')\n",
    "clients_df = pd.read_csv('C:/Users/Raux Familly/Documents/SIMPLON/Briefs/S1_141024/sources/clients.csv', sep=\";\")\n",
    "produits_df = pd.read_csv('C:/Users/Raux Familly/Documents/SIMPLON/Briefs/S1_141024/sources/produits_sous-categorie.csv')\n",
    "\n",
    "ventes_head = ventes_df.head()\n",
    "clients_head = clients_df.head()\n",
    "produits_head = produits_df.head()\n",
    "\n",
    "ventes_head\n"
   ]
  },
  {
   "cell_type": "code",
   "execution_count": 3,
   "id": "e6b68e35-d8da-4bc1-8376-99ba6d01caad",
   "metadata": {},
   "outputs": [
    {
     "data": {
      "text/html": [
       "<div>\n",
       "<style scoped>\n",
       "    .dataframe tbody tr th:only-of-type {\n",
       "        vertical-align: middle;\n",
       "    }\n",
       "\n",
       "    .dataframe tbody tr th {\n",
       "        vertical-align: top;\n",
       "    }\n",
       "\n",
       "    .dataframe thead th {\n",
       "        text-align: right;\n",
       "    }\n",
       "</style>\n",
       "<table border=\"1\" class=\"dataframe\">\n",
       "  <thead>\n",
       "    <tr style=\"text-align: right;\">\n",
       "      <th></th>\n",
       "      <th>client_id</th>\n",
       "      <th>sex</th>\n",
       "      <th>birth</th>\n",
       "    </tr>\n",
       "  </thead>\n",
       "  <tbody>\n",
       "    <tr>\n",
       "      <th>0</th>\n",
       "      <td>c_4410</td>\n",
       "      <td>f</td>\n",
       "      <td>1967</td>\n",
       "    </tr>\n",
       "    <tr>\n",
       "      <th>1</th>\n",
       "      <td>c_7839</td>\n",
       "      <td>f</td>\n",
       "      <td>1975</td>\n",
       "    </tr>\n",
       "    <tr>\n",
       "      <th>2</th>\n",
       "      <td>c_1699</td>\n",
       "      <td>f</td>\n",
       "      <td>1984</td>\n",
       "    </tr>\n",
       "    <tr>\n",
       "      <th>3</th>\n",
       "      <td>c_5961</td>\n",
       "      <td>f</td>\n",
       "      <td>1962</td>\n",
       "    </tr>\n",
       "    <tr>\n",
       "      <th>4</th>\n",
       "      <td>c_5320</td>\n",
       "      <td>m</td>\n",
       "      <td>1943</td>\n",
       "    </tr>\n",
       "  </tbody>\n",
       "</table>\n",
       "</div>"
      ],
      "text/plain": [
       "  client_id sex  birth\n",
       "0    c_4410   f   1967\n",
       "1    c_7839   f   1975\n",
       "2    c_1699   f   1984\n",
       "3    c_5961   f   1962\n",
       "4    c_5320   m   1943"
      ]
     },
     "execution_count": 3,
     "metadata": {},
     "output_type": "execute_result"
    }
   ],
   "source": [
    "clients_head"
   ]
  },
  {
   "cell_type": "code",
   "execution_count": 4,
   "id": "d7af1855-6ae3-4047-a0b1-a7b7b3da9619",
   "metadata": {},
   "outputs": [
    {
     "data": {
      "text/html": [
       "<div>\n",
       "<style scoped>\n",
       "    .dataframe tbody tr th:only-of-type {\n",
       "        vertical-align: middle;\n",
       "    }\n",
       "\n",
       "    .dataframe tbody tr th {\n",
       "        vertical-align: top;\n",
       "    }\n",
       "\n",
       "    .dataframe thead th {\n",
       "        text-align: right;\n",
       "    }\n",
       "</style>\n",
       "<table border=\"1\" class=\"dataframe\">\n",
       "  <thead>\n",
       "    <tr style=\"text-align: right;\">\n",
       "      <th></th>\n",
       "      <th>product_id</th>\n",
       "      <th>category</th>\n",
       "      <th>sub_category</th>\n",
       "      <th>price</th>\n",
       "      <th>stock_quantity</th>\n",
       "    </tr>\n",
       "  </thead>\n",
       "  <tbody>\n",
       "    <tr>\n",
       "      <th>0</th>\n",
       "      <td>0_1421</td>\n",
       "      <td>Vêtements</td>\n",
       "      <td>T-shirts</td>\n",
       "      <td>19.99</td>\n",
       "      <td>39</td>\n",
       "    </tr>\n",
       "    <tr>\n",
       "      <th>1</th>\n",
       "      <td>0_1368</td>\n",
       "      <td>Vêtements</td>\n",
       "      <td>T-shirts</td>\n",
       "      <td>5.13</td>\n",
       "      <td>76</td>\n",
       "    </tr>\n",
       "    <tr>\n",
       "      <th>2</th>\n",
       "      <td>0_731</td>\n",
       "      <td>Vêtements</td>\n",
       "      <td>T-shirts</td>\n",
       "      <td>17.99</td>\n",
       "      <td>2</td>\n",
       "    </tr>\n",
       "    <tr>\n",
       "      <th>3</th>\n",
       "      <td>1_587</td>\n",
       "      <td>Accessoires</td>\n",
       "      <td>Sacs à main</td>\n",
       "      <td>4.99</td>\n",
       "      <td>55</td>\n",
       "    </tr>\n",
       "    <tr>\n",
       "      <th>4</th>\n",
       "      <td>0_1507</td>\n",
       "      <td>Vêtements</td>\n",
       "      <td>T-shirts</td>\n",
       "      <td>3.99</td>\n",
       "      <td>81</td>\n",
       "    </tr>\n",
       "  </tbody>\n",
       "</table>\n",
       "</div>"
      ],
      "text/plain": [
       "  product_id     category sub_category  price  stock_quantity\n",
       "0     0_1421    Vêtements     T-shirts  19.99              39\n",
       "1     0_1368    Vêtements     T-shirts   5.13              76\n",
       "2      0_731    Vêtements     T-shirts  17.99               2\n",
       "3      1_587  Accessoires  Sacs à main   4.99              55\n",
       "4     0_1507    Vêtements     T-shirts   3.99              81"
      ]
     },
     "execution_count": 4,
     "metadata": {},
     "output_type": "execute_result"
    }
   ],
   "source": [
    "produits_head"
   ]
  },
  {
   "cell_type": "code",
   "execution_count": 5,
   "id": "def7499c-e4e4-4459-941e-69a0335f445b",
   "metadata": {},
   "outputs": [
    {
     "data": {
      "text/html": [
       "<div>\n",
       "<style scoped>\n",
       "    .dataframe tbody tr th:only-of-type {\n",
       "        vertical-align: middle;\n",
       "    }\n",
       "\n",
       "    .dataframe tbody tr th {\n",
       "        vertical-align: top;\n",
       "    }\n",
       "\n",
       "    .dataframe thead th {\n",
       "        text-align: right;\n",
       "    }\n",
       "</style>\n",
       "<table border=\"1\" class=\"dataframe\">\n",
       "  <thead>\n",
       "    <tr style=\"text-align: right;\">\n",
       "      <th></th>\n",
       "      <th>id_prod</th>\n",
       "      <th>date</th>\n",
       "      <th>session_id</th>\n",
       "      <th>client_id</th>\n",
       "      <th>quantity_sold</th>\n",
       "    </tr>\n",
       "  </thead>\n",
       "  <tbody>\n",
       "    <tr>\n",
       "      <th>0</th>\n",
       "      <td>0_1483</td>\n",
       "      <td>2021-04-10 18:37:28.723910</td>\n",
       "      <td>s_18746</td>\n",
       "      <td>c_4450</td>\n",
       "      <td>5</td>\n",
       "    </tr>\n",
       "    <tr>\n",
       "      <th>1</th>\n",
       "      <td>2_226</td>\n",
       "      <td>2022-02-03 01:55:53.276402</td>\n",
       "      <td>s_159142</td>\n",
       "      <td>c_277</td>\n",
       "      <td>6</td>\n",
       "    </tr>\n",
       "    <tr>\n",
       "      <th>2</th>\n",
       "      <td>1_374</td>\n",
       "      <td>2021-09-23 15:13:46.938559</td>\n",
       "      <td>s_94290</td>\n",
       "      <td>c_4270</td>\n",
       "      <td>3</td>\n",
       "    </tr>\n",
       "    <tr>\n",
       "      <th>3</th>\n",
       "      <td>0_2186</td>\n",
       "      <td>2021-10-17 03:27:18.783634</td>\n",
       "      <td>s_105936</td>\n",
       "      <td>c_4597</td>\n",
       "      <td>8</td>\n",
       "    </tr>\n",
       "    <tr>\n",
       "      <th>4</th>\n",
       "      <td>0_1351</td>\n",
       "      <td>2021-07-17 20:34:25.800563</td>\n",
       "      <td>s_63642</td>\n",
       "      <td>c_1242</td>\n",
       "      <td>2</td>\n",
       "    </tr>\n",
       "    <tr>\n",
       "      <th>...</th>\n",
       "      <td>...</td>\n",
       "      <td>...</td>\n",
       "      <td>...</td>\n",
       "      <td>...</td>\n",
       "      <td>...</td>\n",
       "    </tr>\n",
       "    <tr>\n",
       "      <th>337011</th>\n",
       "      <td>1_671</td>\n",
       "      <td>2021-05-28 12:35:46.214839</td>\n",
       "      <td>s_40720</td>\n",
       "      <td>c_3454</td>\n",
       "      <td>1</td>\n",
       "    </tr>\n",
       "    <tr>\n",
       "      <th>337012</th>\n",
       "      <td>0_759</td>\n",
       "      <td>2021-06-19 00:19:23.917703</td>\n",
       "      <td>s_50568</td>\n",
       "      <td>c_6268</td>\n",
       "      <td>10</td>\n",
       "    </tr>\n",
       "    <tr>\n",
       "      <th>337013</th>\n",
       "      <td>0_1256</td>\n",
       "      <td>2021-03-16 17:31:59.442007</td>\n",
       "      <td>s_7219</td>\n",
       "      <td>c_4137</td>\n",
       "      <td>7</td>\n",
       "    </tr>\n",
       "    <tr>\n",
       "      <th>337014</th>\n",
       "      <td>2_227</td>\n",
       "      <td>2021-10-30 16:50:15.997750</td>\n",
       "      <td>s_112349</td>\n",
       "      <td>c_5</td>\n",
       "      <td>8</td>\n",
       "    </tr>\n",
       "    <tr>\n",
       "      <th>337015</th>\n",
       "      <td>0_1417</td>\n",
       "      <td>2021-06-26 14:38:19.732946</td>\n",
       "      <td>s_54117</td>\n",
       "      <td>c_6714</td>\n",
       "      <td>3</td>\n",
       "    </tr>\n",
       "  </tbody>\n",
       "</table>\n",
       "<p>337016 rows × 5 columns</p>\n",
       "</div>"
      ],
      "text/plain": [
       "       id_prod                        date session_id client_id  quantity_sold\n",
       "0       0_1483  2021-04-10 18:37:28.723910    s_18746    c_4450              5\n",
       "1        2_226  2022-02-03 01:55:53.276402   s_159142     c_277              6\n",
       "2        1_374  2021-09-23 15:13:46.938559    s_94290    c_4270              3\n",
       "3       0_2186  2021-10-17 03:27:18.783634   s_105936    c_4597              8\n",
       "4       0_1351  2021-07-17 20:34:25.800563    s_63642    c_1242              2\n",
       "...        ...                         ...        ...       ...            ...\n",
       "337011   1_671  2021-05-28 12:35:46.214839    s_40720    c_3454              1\n",
       "337012   0_759  2021-06-19 00:19:23.917703    s_50568    c_6268             10\n",
       "337013  0_1256  2021-03-16 17:31:59.442007     s_7219    c_4137              7\n",
       "337014   2_227  2021-10-30 16:50:15.997750   s_112349       c_5              8\n",
       "337015  0_1417  2021-06-26 14:38:19.732946    s_54117    c_6714              3\n",
       "\n",
       "[337016 rows x 5 columns]"
      ]
     },
     "execution_count": 5,
     "metadata": {},
     "output_type": "execute_result"
    }
   ],
   "source": [
    "ventes_df"
   ]
  },
  {
   "cell_type": "markdown",
   "id": "b33fabc4-176b-45e9-b723-431c0eecfacd",
   "metadata": {},
   "source": [
    "# Détection des anomalies"
   ]
  },
  {
   "cell_type": "code",
   "execution_count": 6,
   "id": "5ea37718-df19-47cc-a251-876630cdab34",
   "metadata": {},
   "outputs": [
    {
     "name": "stdout",
     "output_type": "stream",
     "text": [
      "client_id    0\n",
      "sex          0\n",
      "birth        0\n",
      "dtype: int64\n",
      "product_id        0\n",
      "category          0\n",
      "sub_category      0\n",
      "price             0\n",
      "stock_quantity    0\n",
      "dtype: int64\n",
      "id_prod          0\n",
      "date             0\n",
      "session_id       0\n",
      "client_id        0\n",
      "quantity_sold    0\n",
      "dtype: int64\n"
     ]
    }
   ],
   "source": [
    "print(clients_df.isnull().sum())\n",
    "print(produits_df.isnull().sum())\n",
    "print(ventes_df.isnull().sum())"
   ]
  },
  {
   "cell_type": "code",
   "execution_count": 7,
   "id": "ce61b07f-3651-4b8b-b8c2-2995c55d06be",
   "metadata": {},
   "outputs": [
    {
     "data": {
      "text/html": [
       "<div>\n",
       "<style scoped>\n",
       "    .dataframe tbody tr th:only-of-type {\n",
       "        vertical-align: middle;\n",
       "    }\n",
       "\n",
       "    .dataframe tbody tr th {\n",
       "        vertical-align: top;\n",
       "    }\n",
       "\n",
       "    .dataframe thead th {\n",
       "        text-align: right;\n",
       "    }\n",
       "</style>\n",
       "<table border=\"1\" class=\"dataframe\">\n",
       "  <thead>\n",
       "    <tr style=\"text-align: right;\">\n",
       "      <th></th>\n",
       "      <th>product_id</th>\n",
       "      <th>category</th>\n",
       "      <th>sub_category</th>\n",
       "      <th>price</th>\n",
       "      <th>stock_quantity</th>\n",
       "    </tr>\n",
       "  </thead>\n",
       "  <tbody>\n",
       "    <tr>\n",
       "      <th>0</th>\n",
       "      <td>0_1421</td>\n",
       "      <td>Vêtements</td>\n",
       "      <td>T-shirts</td>\n",
       "      <td>19.99</td>\n",
       "      <td>39</td>\n",
       "    </tr>\n",
       "    <tr>\n",
       "      <th>1</th>\n",
       "      <td>0_1368</td>\n",
       "      <td>Vêtements</td>\n",
       "      <td>T-shirts</td>\n",
       "      <td>5.13</td>\n",
       "      <td>76</td>\n",
       "    </tr>\n",
       "    <tr>\n",
       "      <th>2</th>\n",
       "      <td>0_731</td>\n",
       "      <td>Vêtements</td>\n",
       "      <td>T-shirts</td>\n",
       "      <td>17.99</td>\n",
       "      <td>2</td>\n",
       "    </tr>\n",
       "    <tr>\n",
       "      <th>3</th>\n",
       "      <td>1_587</td>\n",
       "      <td>Accessoires</td>\n",
       "      <td>Sacs à main</td>\n",
       "      <td>4.99</td>\n",
       "      <td>55</td>\n",
       "    </tr>\n",
       "    <tr>\n",
       "      <th>4</th>\n",
       "      <td>0_1507</td>\n",
       "      <td>Vêtements</td>\n",
       "      <td>T-shirts</td>\n",
       "      <td>3.99</td>\n",
       "      <td>81</td>\n",
       "    </tr>\n",
       "    <tr>\n",
       "      <th>...</th>\n",
       "      <td>...</td>\n",
       "      <td>...</td>\n",
       "      <td>...</td>\n",
       "      <td>...</td>\n",
       "      <td>...</td>\n",
       "    </tr>\n",
       "    <tr>\n",
       "      <th>3282</th>\n",
       "      <td>2_23</td>\n",
       "      <td>Montres</td>\n",
       "      <td>Montres connectées</td>\n",
       "      <td>115.99</td>\n",
       "      <td>38</td>\n",
       "    </tr>\n",
       "    <tr>\n",
       "      <th>3283</th>\n",
       "      <td>0_146</td>\n",
       "      <td>Vêtements</td>\n",
       "      <td>T-shirts</td>\n",
       "      <td>17.14</td>\n",
       "      <td>55</td>\n",
       "    </tr>\n",
       "    <tr>\n",
       "      <th>3284</th>\n",
       "      <td>0_802</td>\n",
       "      <td>Vêtements</td>\n",
       "      <td>T-shirts</td>\n",
       "      <td>11.22</td>\n",
       "      <td>64</td>\n",
       "    </tr>\n",
       "    <tr>\n",
       "      <th>3285</th>\n",
       "      <td>1_140</td>\n",
       "      <td>Accessoires</td>\n",
       "      <td>Sacs à main</td>\n",
       "      <td>38.56</td>\n",
       "      <td>1</td>\n",
       "    </tr>\n",
       "    <tr>\n",
       "      <th>3286</th>\n",
       "      <td>0_1920</td>\n",
       "      <td>Vêtements</td>\n",
       "      <td>T-shirts</td>\n",
       "      <td>25.16</td>\n",
       "      <td>16</td>\n",
       "    </tr>\n",
       "  </tbody>\n",
       "</table>\n",
       "<p>3287 rows × 5 columns</p>\n",
       "</div>"
      ],
      "text/plain": [
       "     product_id     category        sub_category   price  stock_quantity\n",
       "0        0_1421    Vêtements            T-shirts   19.99              39\n",
       "1        0_1368    Vêtements            T-shirts    5.13              76\n",
       "2         0_731    Vêtements            T-shirts   17.99               2\n",
       "3         1_587  Accessoires         Sacs à main    4.99              55\n",
       "4        0_1507    Vêtements            T-shirts    3.99              81\n",
       "...         ...          ...                 ...     ...             ...\n",
       "3282       2_23      Montres  Montres connectées  115.99              38\n",
       "3283      0_146    Vêtements            T-shirts   17.14              55\n",
       "3284      0_802    Vêtements            T-shirts   11.22              64\n",
       "3285      1_140  Accessoires         Sacs à main   38.56               1\n",
       "3286     0_1920    Vêtements            T-shirts   25.16              16\n",
       "\n",
       "[3287 rows x 5 columns]"
      ]
     },
     "execution_count": 7,
     "metadata": {},
     "output_type": "execute_result"
    }
   ],
   "source": [
    "produits_df"
   ]
  },
  {
   "cell_type": "code",
   "execution_count": 8,
   "id": "43dd87a9-6510-4e3a-94fc-8d6a54d07084",
   "metadata": {},
   "outputs": [
    {
     "data": {
      "text/html": [
       "<div>\n",
       "<style scoped>\n",
       "    .dataframe tbody tr th:only-of-type {\n",
       "        vertical-align: middle;\n",
       "    }\n",
       "\n",
       "    .dataframe tbody tr th {\n",
       "        vertical-align: top;\n",
       "    }\n",
       "\n",
       "    .dataframe thead th {\n",
       "        text-align: right;\n",
       "    }\n",
       "</style>\n",
       "<table border=\"1\" class=\"dataframe\">\n",
       "  <thead>\n",
       "    <tr style=\"text-align: right;\">\n",
       "      <th></th>\n",
       "      <th>birth</th>\n",
       "    </tr>\n",
       "  </thead>\n",
       "  <tbody>\n",
       "    <tr>\n",
       "      <th>count</th>\n",
       "      <td>8623.000000</td>\n",
       "    </tr>\n",
       "    <tr>\n",
       "      <th>mean</th>\n",
       "      <td>1977.816769</td>\n",
       "    </tr>\n",
       "    <tr>\n",
       "      <th>std</th>\n",
       "      <td>46.071018</td>\n",
       "    </tr>\n",
       "    <tr>\n",
       "      <th>min</th>\n",
       "      <td>-2001.000000</td>\n",
       "    </tr>\n",
       "    <tr>\n",
       "      <th>25%</th>\n",
       "      <td>1966.000000</td>\n",
       "    </tr>\n",
       "    <tr>\n",
       "      <th>50%</th>\n",
       "      <td>1979.000000</td>\n",
       "    </tr>\n",
       "    <tr>\n",
       "      <th>75%</th>\n",
       "      <td>1992.000000</td>\n",
       "    </tr>\n",
       "    <tr>\n",
       "      <th>max</th>\n",
       "      <td>2004.000000</td>\n",
       "    </tr>\n",
       "  </tbody>\n",
       "</table>\n",
       "</div>"
      ],
      "text/plain": [
       "             birth\n",
       "count  8623.000000\n",
       "mean   1977.816769\n",
       "std      46.071018\n",
       "min   -2001.000000\n",
       "25%    1966.000000\n",
       "50%    1979.000000\n",
       "75%    1992.000000\n",
       "max    2004.000000"
      ]
     },
     "execution_count": 8,
     "metadata": {},
     "output_type": "execute_result"
    }
   ],
   "source": [
    "clients_df.describe()"
   ]
  },
  {
   "cell_type": "code",
   "execution_count": 9,
   "id": "7be2fad4-7d69-4e45-b6b8-cd9f19d779c7",
   "metadata": {},
   "outputs": [
    {
     "name": "stdout",
     "output_type": "stream",
     "text": [
      "<class 'pandas.core.frame.DataFrame'>\n",
      "RangeIndex: 8623 entries, 0 to 8622\n",
      "Data columns (total 3 columns):\n",
      " #   Column     Non-Null Count  Dtype \n",
      "---  ------     --------------  ----- \n",
      " 0   client_id  8623 non-null   object\n",
      " 1   sex        8623 non-null   object\n",
      " 2   birth      8623 non-null   int64 \n",
      "dtypes: int64(1), object(2)\n",
      "memory usage: 202.2+ KB\n"
     ]
    }
   ],
   "source": [
    "clients_df.info()"
   ]
  },
  {
   "cell_type": "code",
   "execution_count": 10,
   "id": "f0a7fc82-327f-4724-a9bb-5f7eb5b8d863",
   "metadata": {},
   "outputs": [],
   "source": [
    "clients_df['birth'] = clients_df['birth'].astype('int64')"
   ]
  },
  {
   "cell_type": "code",
   "execution_count": 11,
   "id": "7ba2706e-4a57-4260-bd98-7ea5f77ab970",
   "metadata": {},
   "outputs": [
    {
     "data": {
      "text/plain": [
       "client_id    object\n",
       "sex          object\n",
       "birth         int64\n",
       "dtype: object"
      ]
     },
     "execution_count": 11,
     "metadata": {},
     "output_type": "execute_result"
    }
   ],
   "source": [
    "clients_df.dtypes"
   ]
  },
  {
   "cell_type": "code",
   "execution_count": 12,
   "id": "8f7ff69a-6e59-41fd-b68a-c902988e725e",
   "metadata": {},
   "outputs": [
    {
     "data": {
      "text/html": [
       "<div>\n",
       "<style scoped>\n",
       "    .dataframe tbody tr th:only-of-type {\n",
       "        vertical-align: middle;\n",
       "    }\n",
       "\n",
       "    .dataframe tbody tr th {\n",
       "        vertical-align: top;\n",
       "    }\n",
       "\n",
       "    .dataframe thead th {\n",
       "        text-align: right;\n",
       "    }\n",
       "</style>\n",
       "<table border=\"1\" class=\"dataframe\">\n",
       "  <thead>\n",
       "    <tr style=\"text-align: right;\">\n",
       "      <th></th>\n",
       "      <th>birth</th>\n",
       "    </tr>\n",
       "  </thead>\n",
       "  <tbody>\n",
       "    <tr>\n",
       "      <th>count</th>\n",
       "      <td>8623.000000</td>\n",
       "    </tr>\n",
       "    <tr>\n",
       "      <th>mean</th>\n",
       "      <td>1977.816769</td>\n",
       "    </tr>\n",
       "    <tr>\n",
       "      <th>std</th>\n",
       "      <td>46.071018</td>\n",
       "    </tr>\n",
       "    <tr>\n",
       "      <th>min</th>\n",
       "      <td>-2001.000000</td>\n",
       "    </tr>\n",
       "    <tr>\n",
       "      <th>25%</th>\n",
       "      <td>1966.000000</td>\n",
       "    </tr>\n",
       "    <tr>\n",
       "      <th>50%</th>\n",
       "      <td>1979.000000</td>\n",
       "    </tr>\n",
       "    <tr>\n",
       "      <th>75%</th>\n",
       "      <td>1992.000000</td>\n",
       "    </tr>\n",
       "    <tr>\n",
       "      <th>max</th>\n",
       "      <td>2004.000000</td>\n",
       "    </tr>\n",
       "  </tbody>\n",
       "</table>\n",
       "</div>"
      ],
      "text/plain": [
       "             birth\n",
       "count  8623.000000\n",
       "mean   1977.816769\n",
       "std      46.071018\n",
       "min   -2001.000000\n",
       "25%    1966.000000\n",
       "50%    1979.000000\n",
       "75%    1992.000000\n",
       "max    2004.000000"
      ]
     },
     "execution_count": 12,
     "metadata": {},
     "output_type": "execute_result"
    }
   ],
   "source": [
    "clients_df.describe()"
   ]
  },
  {
   "cell_type": "code",
   "execution_count": 13,
   "id": "230187de-e246-4c9b-a838-009f58bbebc4",
   "metadata": {},
   "outputs": [
    {
     "name": "stdout",
     "output_type": "stream",
     "text": [
      "<class 'pandas.core.frame.DataFrame'>\n",
      "RangeIndex: 3287 entries, 0 to 3286\n",
      "Data columns (total 5 columns):\n",
      " #   Column          Non-Null Count  Dtype  \n",
      "---  ------          --------------  -----  \n",
      " 0   product_id      3287 non-null   object \n",
      " 1   category        3287 non-null   object \n",
      " 2   sub_category    3287 non-null   object \n",
      " 3   price           3287 non-null   float64\n",
      " 4   stock_quantity  3287 non-null   int64  \n",
      "dtypes: float64(1), int64(1), object(3)\n",
      "memory usage: 128.5+ KB\n"
     ]
    }
   ],
   "source": [
    "produits_df.info()"
   ]
  },
  {
   "cell_type": "code",
   "execution_count": 14,
   "id": "31f2b185-e869-42ad-86bd-be70f8762a1d",
   "metadata": {},
   "outputs": [
    {
     "data": {
      "text/plain": [
       "(337016, 5)"
      ]
     },
     "execution_count": 14,
     "metadata": {},
     "output_type": "execute_result"
    }
   ],
   "source": [
    "ventes_df.shape"
   ]
  },
  {
   "cell_type": "code",
   "execution_count": 15,
   "id": "9e976500-2b86-4dac-a599-64d381b16fb7",
   "metadata": {},
   "outputs": [
    {
     "name": "stdout",
     "output_type": "stream",
     "text": [
      "0\n",
      "0\n",
      "18\n"
     ]
    }
   ],
   "source": [
    "print(produits_df.duplicated().sum())\n",
    "print(clients_df.duplicated().sum())\n",
    "print(ventes_df.duplicated().sum())"
   ]
  },
  {
   "cell_type": "code",
   "execution_count": 16,
   "id": "4f2db181-deb5-4bc7-a2a0-da5d26fe2bcc",
   "metadata": {},
   "outputs": [],
   "source": [
    "ventes_df_clean = ventes_df.drop_duplicates()"
   ]
  },
  {
   "cell_type": "code",
   "execution_count": 17,
   "id": "52fc7f57-305e-4c87-96e5-5b04530d8e03",
   "metadata": {},
   "outputs": [
    {
     "name": "stdout",
     "output_type": "stream",
     "text": [
      "0\n"
     ]
    }
   ],
   "source": [
    "print(ventes_df_clean.duplicated().sum())"
   ]
  },
  {
   "cell_type": "code",
   "execution_count": 18,
   "id": "15e9004a-b866-4de7-a6c8-a203a0ef6a8a",
   "metadata": {},
   "outputs": [
    {
     "name": "stdout",
     "output_type": "stream",
     "text": [
      "Prix invalides:\n",
      "     product_id   category sub_category  price  stock_quantity\n",
      "731        T_0  Vêtements     T-shirts   -1.0              89\n"
     ]
    }
   ],
   "source": [
    "#Vérifier les prix négatifs ou anormalement bas\n",
    "invalid_prices = produits_df[produits_df['price'] <= 0]\n",
    "print(\"Prix invalides:\\n\", invalid_prices)"
   ]
  },
  {
   "cell_type": "code",
   "execution_count": 19,
   "id": "98165c6c-1551-454e-801c-d724feaf5d2f",
   "metadata": {},
   "outputs": [
    {
     "name": "stdout",
     "output_type": "stream",
     "text": [
      "Stock invalide:\n",
      " Empty DataFrame\n",
      "Columns: [product_id, category, sub_category, price, stock_quantity]\n",
      "Index: []\n"
     ]
    }
   ],
   "source": [
    "#Vérifier les quantités de stock négatives ou nulles\n",
    "invalid_stock = produits_df[produits_df['stock_quantity'] < 0]\n",
    "print(\"Stock invalide:\\n\", invalid_stock)"
   ]
  },
  {
   "cell_type": "code",
   "execution_count": 20,
   "id": "69dad1e1-db03-4c71-9051-b419027b2b7d",
   "metadata": {},
   "outputs": [
    {
     "data": {
      "text/plain": [
       "product_id        3287\n",
       "category             3\n",
       "sub_category         3\n",
       "price             1455\n",
       "stock_quantity      99\n",
       "dtype: int64"
      ]
     },
     "execution_count": 20,
     "metadata": {},
     "output_type": "execute_result"
    }
   ],
   "source": [
    "produits_df.nunique()"
   ]
  },
  {
   "cell_type": "code",
   "execution_count": 21,
   "id": "e3f33e36-35dd-4d7c-b75e-29bff6ef25e5",
   "metadata": {},
   "outputs": [
    {
     "name": "stdout",
     "output_type": "stream",
     "text": [
      "Ventes avec produits inconnus : \n",
      "        id_prod                        date session_id client_id  quantity_sold\n",
      "6235    0_2245  2021-06-17 03:03:12.668129    s_49705    c_1533             10\n",
      "10802   0_2245  2021-06-16 05:53:01.627491    s_49323    c_7954              2\n",
      "14051   0_2245  2021-11-24 17:35:59.911427   s_124474    c_5120              5\n",
      "17486   0_2245  2022-02-28 18:08:49.875709   s_172304    c_4964              7\n",
      "21078   0_2245  2021-03-01 00:09:29.301897        s_3     c_580             10\n",
      "...        ...                         ...        ...       ...            ...\n",
      "322710  0_2245  2021-04-06 19:59:19.462288    s_16936    c_4167              8\n",
      "329417  0_2245  2021-03-30 23:29:02.347672    s_13738    c_7790              5\n",
      "330490  0_2245  2021-12-03 14:14:40.444177   s_128815    c_6189              2\n",
      "335531  0_2245  2021-04-27 18:58:47.703374    s_26624    c_1595              2\n",
      "336220  0_2245  2021-05-01 03:35:03.146305    s_28235    c_5714              5\n",
      "\n",
      "[103 rows x 5 columns]\n"
     ]
    }
   ],
   "source": [
    "#Vérifier que chaque vente correspond à un product_id dans produits_df\n",
    "invalid_sales = ventes_df[~ventes_df['id_prod'].isin(produits_df['product_id'])]\n",
    "print(\"Ventes avec produits inconnus : \\n\", invalid_sales)"
   ]
  },
  {
   "cell_type": "code",
   "execution_count": 22,
   "id": "83e3a0b5-29bd-46d9-8988-546f8c38e99e",
   "metadata": {},
   "outputs": [],
   "source": [
    "#103 lignes dans la table ventes_df n'ont pas de correspondance id_prod avec la table produits_df['product_id']"
   ]
  },
  {
   "cell_type": "code",
   "execution_count": 23,
   "id": "45c4f5c1-19e6-4d03-8072-8512fe68fc4f",
   "metadata": {},
   "outputs": [
    {
     "name": "stdout",
     "output_type": "stream",
     "text": [
      "Ventes avec clients inconnus : \n",
      " Empty DataFrame\n",
      "Columns: [id_prod, date, session_id, client_id, quantity_sold]\n",
      "Index: []\n"
     ]
    }
   ],
   "source": [
    "#Vérifier que chaque vente associée à un client correspond à un client de la table clients \n",
    "invalid_clients = ventes_df[~ventes_df['client_id'].isin(clients_df['client_id'])]\n",
    "print(\"Ventes avec clients inconnus : \\n\", invalid_clients)"
   ]
  },
  {
   "cell_type": "code",
   "execution_count": 24,
   "id": "5b7d252a-42ed-4de6-814a-30e46dc9e0a9",
   "metadata": {},
   "outputs": [
    {
     "data": {
      "image/png": "[encoded data removed]",
      "text/plain": [
       "<Figure size 800x600 with 1 Axes>"
      ]
     },
     "metadata": {},
     "output_type": "display_data"
    }
   ],
   "source": [
    "#Quantité de produits à un prix x\n",
    "price_counts = produits_df['price'].value_counts()\n",
    "\n",
    "#Using Patplotlib to create a count plot\n",
    "plt.figure(figsize=(8, 6))\n",
    "plt.bar(price_counts.index, price_counts)\n",
    "plt.title('Quantité de produits par prix')\n",
    "plt.xlabel('Prix')\n",
    "plt.ylabel('Cumul')\n",
    "plt.show()"
   ]
  },
  {
   "cell_type": "code",
   "execution_count": 25,
   "id": "136a45a9-1937-4dcc-8fa9-3fa09566c4a3",
   "metadata": {},
   "outputs": [
    {
     "data": {
      "image/png": "[encoded data removed]",
      "text/plain": [
       "<Figure size 1500x600 with 1 Axes>"
      ]
     },
     "metadata": {},
     "output_type": "display_data"
    }
   ],
   "source": [
    "#box plot des prix\n",
    "plt.figure(figsize=(15, 6))\n",
    "plt.subplot(1, 2, 1)\n",
    "sns.boxplot(y=produits_df['price'])\n",
    "plt.title('Box Plot of Price')\n",
    "plt.ylabel('Price')\n",
    "plt.show()"
   ]
  },
  {
   "cell_type": "code",
   "execution_count": 26,
   "id": "4d17871d-41b2-4ec6-bace-d161496113d3",
   "metadata": {},
   "outputs": [],
   "source": [
    "clients_df['birth'] = pd.to_numeric(clients_df['birth'], errors='coerce')"
   ]
  },
  {
   "cell_type": "code",
   "execution_count": 27,
   "id": "8d99ed77-6043-4561-bfa3-d964539403b4",
   "metadata": {},
   "outputs": [
    {
     "data": {
      "text/html": [
       "<div>\n",
       "<style scoped>\n",
       "    .dataframe tbody tr th:only-of-type {\n",
       "        vertical-align: middle;\n",
       "    }\n",
       "\n",
       "    .dataframe tbody tr th {\n",
       "        vertical-align: top;\n",
       "    }\n",
       "\n",
       "    .dataframe thead th {\n",
       "        text-align: right;\n",
       "    }\n",
       "</style>\n",
       "<table border=\"1\" class=\"dataframe\">\n",
       "  <thead>\n",
       "    <tr style=\"text-align: right;\">\n",
       "      <th></th>\n",
       "      <th>birth</th>\n",
       "    </tr>\n",
       "  </thead>\n",
       "  <tbody>\n",
       "    <tr>\n",
       "      <th>count</th>\n",
       "      <td>8623.000000</td>\n",
       "    </tr>\n",
       "    <tr>\n",
       "      <th>mean</th>\n",
       "      <td>1977.816769</td>\n",
       "    </tr>\n",
       "    <tr>\n",
       "      <th>std</th>\n",
       "      <td>46.071018</td>\n",
       "    </tr>\n",
       "    <tr>\n",
       "      <th>min</th>\n",
       "      <td>-2001.000000</td>\n",
       "    </tr>\n",
       "    <tr>\n",
       "      <th>25%</th>\n",
       "      <td>1966.000000</td>\n",
       "    </tr>\n",
       "    <tr>\n",
       "      <th>50%</th>\n",
       "      <td>1979.000000</td>\n",
       "    </tr>\n",
       "    <tr>\n",
       "      <th>75%</th>\n",
       "      <td>1992.000000</td>\n",
       "    </tr>\n",
       "    <tr>\n",
       "      <th>max</th>\n",
       "      <td>2004.000000</td>\n",
       "    </tr>\n",
       "  </tbody>\n",
       "</table>\n",
       "</div>"
      ],
      "text/plain": [
       "             birth\n",
       "count  8623.000000\n",
       "mean   1977.816769\n",
       "std      46.071018\n",
       "min   -2001.000000\n",
       "25%    1966.000000\n",
       "50%    1979.000000\n",
       "75%    1992.000000\n",
       "max    2004.000000"
      ]
     },
     "execution_count": 27,
     "metadata": {},
     "output_type": "execute_result"
    }
   ],
   "source": [
    "clients_df.describe()"
   ]
  },
  {
   "cell_type": "code",
   "execution_count": 28,
   "id": "774b84a9-b2bf-49aa-83a6-583ceeab6a77",
   "metadata": {},
   "outputs": [],
   "source": [
    "clients_df['birth'] = clients_df['birth'].abs()"
   ]
  },
  {
   "cell_type": "code",
   "execution_count": 29,
   "id": "f0ea855d-85e4-4610-895a-434caba15bab",
   "metadata": {},
   "outputs": [
    {
     "data": {
      "text/html": [
       "<div>\n",
       "<style scoped>\n",
       "    .dataframe tbody tr th:only-of-type {\n",
       "        vertical-align: middle;\n",
       "    }\n",
       "\n",
       "    .dataframe tbody tr th {\n",
       "        vertical-align: top;\n",
       "    }\n",
       "\n",
       "    .dataframe thead th {\n",
       "        text-align: right;\n",
       "    }\n",
       "</style>\n",
       "<table border=\"1\" class=\"dataframe\">\n",
       "  <thead>\n",
       "    <tr style=\"text-align: right;\">\n",
       "      <th></th>\n",
       "      <th>birth</th>\n",
       "    </tr>\n",
       "  </thead>\n",
       "  <tbody>\n",
       "    <tr>\n",
       "      <th>count</th>\n",
       "      <td>8623.000000</td>\n",
       "    </tr>\n",
       "    <tr>\n",
       "      <th>mean</th>\n",
       "      <td>1978.280877</td>\n",
       "    </tr>\n",
       "    <tr>\n",
       "      <th>std</th>\n",
       "      <td>16.919535</td>\n",
       "    </tr>\n",
       "    <tr>\n",
       "      <th>min</th>\n",
       "      <td>1929.000000</td>\n",
       "    </tr>\n",
       "    <tr>\n",
       "      <th>25%</th>\n",
       "      <td>1966.000000</td>\n",
       "    </tr>\n",
       "    <tr>\n",
       "      <th>50%</th>\n",
       "      <td>1979.000000</td>\n",
       "    </tr>\n",
       "    <tr>\n",
       "      <th>75%</th>\n",
       "      <td>1992.000000</td>\n",
       "    </tr>\n",
       "    <tr>\n",
       "      <th>max</th>\n",
       "      <td>2004.000000</td>\n",
       "    </tr>\n",
       "  </tbody>\n",
       "</table>\n",
       "</div>"
      ],
      "text/plain": [
       "             birth\n",
       "count  8623.000000\n",
       "mean   1978.280877\n",
       "std      16.919535\n",
       "min    1929.000000\n",
       "25%    1966.000000\n",
       "50%    1979.000000\n",
       "75%    1992.000000\n",
       "max    2004.000000"
      ]
     },
     "execution_count": 29,
     "metadata": {},
     "output_type": "execute_result"
    }
   ],
   "source": [
    "clients_df.describe()"
   ]
  },
  {
   "cell_type": "code",
   "execution_count": 30,
   "id": "70a887ea-af6c-4da8-9d86-d2aba8f50125",
   "metadata": {},
   "outputs": [
    {
     "name": "stdout",
     "output_type": "stream",
     "text": [
      "Prix invalides:\n",
      " Empty DataFrame\n",
      "Columns: [product_id, category, sub_category, price, stock_quantity]\n",
      "Index: []\n"
     ]
    }
   ],
   "source": [
    "produits_df['price'] = produits_df['price'].abs()\n",
    "invalid_prices = produits_df[produits_df['price'] <= 0]\n",
    "print(\"Prix invalides:\\n\", invalid_prices)"
   ]
  },
  {
   "cell_type": "code",
   "execution_count": 31,
   "id": "50dcdfe7-5d92-4a07-bd2f-e91ac3dc8d72",
   "metadata": {},
   "outputs": [
    {
     "name": "stdout",
     "output_type": "stream",
     "text": [
      "<class 'pandas.core.frame.DataFrame'>\n",
      "RangeIndex: 8623 entries, 0 to 8622\n",
      "Data columns (total 3 columns):\n",
      " #   Column     Non-Null Count  Dtype \n",
      "---  ------     --------------  ----- \n",
      " 0   client_id  8623 non-null   object\n",
      " 1   sex        8623 non-null   object\n",
      " 2   birth      8623 non-null   int64 \n",
      "dtypes: int64(1), object(2)\n",
      "memory usage: 202.2+ KB\n"
     ]
    }
   ],
   "source": [
    "clients_df.info()"
   ]
  },
  {
   "cell_type": "code",
   "execution_count": 32,
   "id": "d6a355f5-563c-40b2-9ba7-f67a71cd6b5f",
   "metadata": {},
   "outputs": [
    {
     "data": {
      "text/html": [
       "<div>\n",
       "<style scoped>\n",
       "    .dataframe tbody tr th:only-of-type {\n",
       "        vertical-align: middle;\n",
       "    }\n",
       "\n",
       "    .dataframe tbody tr th {\n",
       "        vertical-align: top;\n",
       "    }\n",
       "\n",
       "    .dataframe thead th {\n",
       "        text-align: right;\n",
       "    }\n",
       "</style>\n",
       "<table border=\"1\" class=\"dataframe\">\n",
       "  <thead>\n",
       "    <tr style=\"text-align: right;\">\n",
       "      <th></th>\n",
       "      <th>client_id</th>\n",
       "      <th>sex</th>\n",
       "      <th>birth</th>\n",
       "    </tr>\n",
       "  </thead>\n",
       "  <tbody>\n",
       "    <tr>\n",
       "      <th>0</th>\n",
       "      <td>c_4410</td>\n",
       "      <td>f</td>\n",
       "      <td>1967</td>\n",
       "    </tr>\n",
       "    <tr>\n",
       "      <th>1</th>\n",
       "      <td>c_7839</td>\n",
       "      <td>f</td>\n",
       "      <td>1975</td>\n",
       "    </tr>\n",
       "    <tr>\n",
       "      <th>2</th>\n",
       "      <td>c_1699</td>\n",
       "      <td>f</td>\n",
       "      <td>1984</td>\n",
       "    </tr>\n",
       "    <tr>\n",
       "      <th>3</th>\n",
       "      <td>c_5961</td>\n",
       "      <td>f</td>\n",
       "      <td>1962</td>\n",
       "    </tr>\n",
       "    <tr>\n",
       "      <th>4</th>\n",
       "      <td>c_5320</td>\n",
       "      <td>m</td>\n",
       "      <td>1943</td>\n",
       "    </tr>\n",
       "  </tbody>\n",
       "</table>\n",
       "</div>"
      ],
      "text/plain": [
       "  client_id sex  birth\n",
       "0    c_4410   f   1967\n",
       "1    c_7839   f   1975\n",
       "2    c_1699   f   1984\n",
       "3    c_5961   f   1962\n",
       "4    c_5320   m   1943"
      ]
     },
     "execution_count": 32,
     "metadata": {},
     "output_type": "execute_result"
    }
   ],
   "source": [
    "clients_df.head()"
   ]
  },
  {
   "cell_type": "code",
   "execution_count": 33,
   "id": "48c04ce3-6311-4e6c-a3e4-029ce7c303df",
   "metadata": {},
   "outputs": [
    {
     "data": {
      "text/html": [
       "<div>\n",
       "<style scoped>\n",
       "    .dataframe tbody tr th:only-of-type {\n",
       "        vertical-align: middle;\n",
       "    }\n",
       "\n",
       "    .dataframe tbody tr th {\n",
       "        vertical-align: top;\n",
       "    }\n",
       "\n",
       "    .dataframe thead th {\n",
       "        text-align: right;\n",
       "    }\n",
       "</style>\n",
       "<table border=\"1\" class=\"dataframe\">\n",
       "  <thead>\n",
       "    <tr style=\"text-align: right;\">\n",
       "      <th></th>\n",
       "      <th>price</th>\n",
       "      <th>stock_quantity</th>\n",
       "    </tr>\n",
       "  </thead>\n",
       "  <tbody>\n",
       "    <tr>\n",
       "      <th>count</th>\n",
       "      <td>3287.000000</td>\n",
       "      <td>3287.000000</td>\n",
       "    </tr>\n",
       "    <tr>\n",
       "      <th>mean</th>\n",
       "      <td>21.857250</td>\n",
       "      <td>50.309705</td>\n",
       "    </tr>\n",
       "    <tr>\n",
       "      <th>std</th>\n",
       "      <td>29.847462</td>\n",
       "      <td>28.847379</td>\n",
       "    </tr>\n",
       "    <tr>\n",
       "      <th>min</th>\n",
       "      <td>0.620000</td>\n",
       "      <td>1.000000</td>\n",
       "    </tr>\n",
       "    <tr>\n",
       "      <th>25%</th>\n",
       "      <td>6.990000</td>\n",
       "      <td>25.000000</td>\n",
       "    </tr>\n",
       "    <tr>\n",
       "      <th>50%</th>\n",
       "      <td>13.060000</td>\n",
       "      <td>51.000000</td>\n",
       "    </tr>\n",
       "    <tr>\n",
       "      <th>75%</th>\n",
       "      <td>22.990000</td>\n",
       "      <td>76.000000</td>\n",
       "    </tr>\n",
       "    <tr>\n",
       "      <th>max</th>\n",
       "      <td>300.000000</td>\n",
       "      <td>99.000000</td>\n",
       "    </tr>\n",
       "  </tbody>\n",
       "</table>\n",
       "</div>"
      ],
      "text/plain": [
       "             price  stock_quantity\n",
       "count  3287.000000     3287.000000\n",
       "mean     21.857250       50.309705\n",
       "std      29.847462       28.847379\n",
       "min       0.620000        1.000000\n",
       "25%       6.990000       25.000000\n",
       "50%      13.060000       51.000000\n",
       "75%      22.990000       76.000000\n",
       "max     300.000000       99.000000"
      ]
     },
     "execution_count": 33,
     "metadata": {},
     "output_type": "execute_result"
    }
   ],
   "source": [
    "produits_df.describe()"
   ]
  },
  {
   "cell_type": "code",
   "execution_count": 34,
   "id": "8af6ada2-6922-4cbd-89c7-c29bbd2bda93",
   "metadata": {},
   "outputs": [
    {
     "data": {
      "text/plain": [
       "product_id         object\n",
       "category           object\n",
       "sub_category       object\n",
       "price             float64\n",
       "stock_quantity      int64\n",
       "dtype: object"
      ]
     },
     "execution_count": 34,
     "metadata": {},
     "output_type": "execute_result"
    }
   ],
   "source": [
    "produits_df.dtypes"
   ]
  },
  {
   "cell_type": "markdown",
   "id": "0c6c3924-855c-437f-9636-1ff713787c6f",
   "metadata": {},
   "source": [
    "## Interprétation"
   ]
  },
  {
   "cell_type": "markdown",
   "id": "1e69919e-fad2-45ec-ba6a-965f5d8ae93c",
   "metadata": {},
   "source": [
    "## Clients"
   ]
  },
  {
   "cell_type": "code",
   "execution_count": 35,
   "id": "040395f9-a63a-467d-b175-9803043d5ac5",
   "metadata": {},
   "outputs": [
    {
     "data": {
      "text/plain": [
       "(8623, 3)"
      ]
     },
     "execution_count": 35,
     "metadata": {},
     "output_type": "execute_result"
    }
   ],
   "source": [
    "clients_df.shape"
   ]
  },
  {
   "cell_type": "code",
   "execution_count": 36,
   "id": "a7a07376-6317-4a41-8373-f114c6748915",
   "metadata": {},
   "outputs": [
    {
     "name": "stdout",
     "output_type": "stream",
     "text": [
      "<class 'pandas.core.frame.DataFrame'>\n",
      "RangeIndex: 8623 entries, 0 to 8622\n",
      "Data columns (total 3 columns):\n",
      " #   Column     Non-Null Count  Dtype \n",
      "---  ------     --------------  ----- \n",
      " 0   client_id  8623 non-null   object\n",
      " 1   sex        8623 non-null   object\n",
      " 2   birth      8623 non-null   int64 \n",
      "dtypes: int64(1), object(2)\n",
      "memory usage: 202.2+ KB\n"
     ]
    }
   ],
   "source": [
    "clients_df.info()"
   ]
  },
  {
   "cell_type": "code",
   "execution_count": 37,
   "id": "50cb5b5e-7f9e-4638-8147-430b3a6f84b2",
   "metadata": {},
   "outputs": [
    {
     "data": {
      "text/html": [
       "<div>\n",
       "<style scoped>\n",
       "    .dataframe tbody tr th:only-of-type {\n",
       "        vertical-align: middle;\n",
       "    }\n",
       "\n",
       "    .dataframe tbody tr th {\n",
       "        vertical-align: top;\n",
       "    }\n",
       "\n",
       "    .dataframe thead th {\n",
       "        text-align: right;\n",
       "    }\n",
       "</style>\n",
       "<table border=\"1\" class=\"dataframe\">\n",
       "  <thead>\n",
       "    <tr style=\"text-align: right;\">\n",
       "      <th></th>\n",
       "      <th>birth</th>\n",
       "    </tr>\n",
       "  </thead>\n",
       "  <tbody>\n",
       "    <tr>\n",
       "      <th>count</th>\n",
       "      <td>8623.000000</td>\n",
       "    </tr>\n",
       "    <tr>\n",
       "      <th>mean</th>\n",
       "      <td>1978.280877</td>\n",
       "    </tr>\n",
       "    <tr>\n",
       "      <th>std</th>\n",
       "      <td>16.919535</td>\n",
       "    </tr>\n",
       "    <tr>\n",
       "      <th>min</th>\n",
       "      <td>1929.000000</td>\n",
       "    </tr>\n",
       "    <tr>\n",
       "      <th>25%</th>\n",
       "      <td>1966.000000</td>\n",
       "    </tr>\n",
       "    <tr>\n",
       "      <th>50%</th>\n",
       "      <td>1979.000000</td>\n",
       "    </tr>\n",
       "    <tr>\n",
       "      <th>75%</th>\n",
       "      <td>1992.000000</td>\n",
       "    </tr>\n",
       "    <tr>\n",
       "      <th>max</th>\n",
       "      <td>2004.000000</td>\n",
       "    </tr>\n",
       "  </tbody>\n",
       "</table>\n",
       "</div>"
      ],
      "text/plain": [
       "             birth\n",
       "count  8623.000000\n",
       "mean   1978.280877\n",
       "std      16.919535\n",
       "min    1929.000000\n",
       "25%    1966.000000\n",
       "50%    1979.000000\n",
       "75%    1992.000000\n",
       "max    2004.000000"
      ]
     },
     "execution_count": 37,
     "metadata": {},
     "output_type": "execute_result"
    }
   ],
   "source": [
    "clients_df.describe()"
   ]
  },
  {
   "cell_type": "code",
   "execution_count": 38,
   "id": "5cae531e-69ae-4036-8c85-d7ca06822df6",
   "metadata": {},
   "outputs": [
    {
     "data": {
      "text/plain": [
       "client_id    0\n",
       "sex          0\n",
       "birth        0\n",
       "dtype: int64"
      ]
     },
     "execution_count": 38,
     "metadata": {},
     "output_type": "execute_result"
    }
   ],
   "source": [
    "clients_df.isnull().sum()"
   ]
  },
  {
   "cell_type": "code",
   "execution_count": 39,
   "id": "ba83a7bd-1457-4ee2-865b-d19bae699b38",
   "metadata": {},
   "outputs": [
    {
     "data": {
      "text/plain": [
       "client_id    8623\n",
       "sex             2\n",
       "birth          76\n",
       "dtype: int64"
      ]
     },
     "execution_count": 39,
     "metadata": {},
     "output_type": "execute_result"
    }
   ],
   "source": [
    "clients_df.nunique()"
   ]
  },
  {
   "cell_type": "code",
   "execution_count": 40,
   "id": "dfec8671-a170-45ac-9590-4c4694d5c062",
   "metadata": {},
   "outputs": [
    {
     "data": {
      "text/plain": [
       "np.int64(0)"
      ]
     },
     "execution_count": 40,
     "metadata": {},
     "output_type": "execute_result"
    }
   ],
   "source": [
    "clients_df.duplicated().sum()"
   ]
  },
  {
   "cell_type": "markdown",
   "id": "72fe2be2-42f2-4197-96c2-2a8574500dbf",
   "metadata": {},
   "source": [
    "## Produits"
   ]
  },
  {
   "cell_type": "code",
   "execution_count": 41,
   "id": "c47f095b-1676-44c8-aa68-e4a2cddfd2ac",
   "metadata": {},
   "outputs": [
    {
     "data": {
      "text/plain": [
       "(3287, 5)"
      ]
     },
     "execution_count": 41,
     "metadata": {},
     "output_type": "execute_result"
    }
   ],
   "source": [
    "produits_df.shape"
   ]
  },
  {
   "cell_type": "code",
   "execution_count": 42,
   "id": "8b9f3e46-fff8-48d6-a388-8ae373e2d69e",
   "metadata": {},
   "outputs": [
    {
     "name": "stdout",
     "output_type": "stream",
     "text": [
      "<class 'pandas.core.frame.DataFrame'>\n",
      "RangeIndex: 3287 entries, 0 to 3286\n",
      "Data columns (total 5 columns):\n",
      " #   Column          Non-Null Count  Dtype  \n",
      "---  ------          --------------  -----  \n",
      " 0   product_id      3287 non-null   object \n",
      " 1   category        3287 non-null   object \n",
      " 2   sub_category    3287 non-null   object \n",
      " 3   price           3287 non-null   float64\n",
      " 4   stock_quantity  3287 non-null   int64  \n",
      "dtypes: float64(1), int64(1), object(3)\n",
      "memory usage: 128.5+ KB\n"
     ]
    }
   ],
   "source": [
    "produits_df.info()"
   ]
  },
  {
   "cell_type": "code",
   "execution_count": 43,
   "id": "2b0d05f0-9c1c-4e66-a25f-43a10dfffec2",
   "metadata": {},
   "outputs": [
    {
     "data": {
      "text/html": [
       "<div>\n",
       "<style scoped>\n",
       "    .dataframe tbody tr th:only-of-type {\n",
       "        vertical-align: middle;\n",
       "    }\n",
       "\n",
       "    .dataframe tbody tr th {\n",
       "        vertical-align: top;\n",
       "    }\n",
       "\n",
       "    .dataframe thead th {\n",
       "        text-align: right;\n",
       "    }\n",
       "</style>\n",
       "<table border=\"1\" class=\"dataframe\">\n",
       "  <thead>\n",
       "    <tr style=\"text-align: right;\">\n",
       "      <th></th>\n",
       "      <th>price</th>\n",
       "      <th>stock_quantity</th>\n",
       "    </tr>\n",
       "  </thead>\n",
       "  <tbody>\n",
       "    <tr>\n",
       "      <th>count</th>\n",
       "      <td>3287.000000</td>\n",
       "      <td>3287.000000</td>\n",
       "    </tr>\n",
       "    <tr>\n",
       "      <th>mean</th>\n",
       "      <td>21.857250</td>\n",
       "      <td>50.309705</td>\n",
       "    </tr>\n",
       "    <tr>\n",
       "      <th>std</th>\n",
       "      <td>29.847462</td>\n",
       "      <td>28.847379</td>\n",
       "    </tr>\n",
       "    <tr>\n",
       "      <th>min</th>\n",
       "      <td>0.620000</td>\n",
       "      <td>1.000000</td>\n",
       "    </tr>\n",
       "    <tr>\n",
       "      <th>25%</th>\n",
       "      <td>6.990000</td>\n",
       "      <td>25.000000</td>\n",
       "    </tr>\n",
       "    <tr>\n",
       "      <th>50%</th>\n",
       "      <td>13.060000</td>\n",
       "      <td>51.000000</td>\n",
       "    </tr>\n",
       "    <tr>\n",
       "      <th>75%</th>\n",
       "      <td>22.990000</td>\n",
       "      <td>76.000000</td>\n",
       "    </tr>\n",
       "    <tr>\n",
       "      <th>max</th>\n",
       "      <td>300.000000</td>\n",
       "      <td>99.000000</td>\n",
       "    </tr>\n",
       "  </tbody>\n",
       "</table>\n",
       "</div>"
      ],
      "text/plain": [
       "             price  stock_quantity\n",
       "count  3287.000000     3287.000000\n",
       "mean     21.857250       50.309705\n",
       "std      29.847462       28.847379\n",
       "min       0.620000        1.000000\n",
       "25%       6.990000       25.000000\n",
       "50%      13.060000       51.000000\n",
       "75%      22.990000       76.000000\n",
       "max     300.000000       99.000000"
      ]
     },
     "execution_count": 43,
     "metadata": {},
     "output_type": "execute_result"
    }
   ],
   "source": [
    "produits_df.describe()"
   ]
  },
  {
   "cell_type": "markdown",
   "id": "6b1b5ae0",
   "metadata": {},
   "source": [
    "Je constate ici qu'il y a un prix négatif qu'il faudra corriger"
   ]
  },
  {
   "cell_type": "code",
   "execution_count": 44,
   "id": "b4e1e3e2",
   "metadata": {},
   "outputs": [],
   "source": [
    "produits_df['price'] = produits_df['price'].abs()"
   ]
  },
  {
   "cell_type": "code",
   "execution_count": 45,
   "id": "510de214",
   "metadata": {},
   "outputs": [
    {
     "data": {
      "text/html": [
       "<div>\n",
       "<style scoped>\n",
       "    .dataframe tbody tr th:only-of-type {\n",
       "        vertical-align: middle;\n",
       "    }\n",
       "\n",
       "    .dataframe tbody tr th {\n",
       "        vertical-align: top;\n",
       "    }\n",
       "\n",
       "    .dataframe thead th {\n",
       "        text-align: right;\n",
       "    }\n",
       "</style>\n",
       "<table border=\"1\" class=\"dataframe\">\n",
       "  <thead>\n",
       "    <tr style=\"text-align: right;\">\n",
       "      <th></th>\n",
       "      <th>price</th>\n",
       "      <th>stock_quantity</th>\n",
       "    </tr>\n",
       "  </thead>\n",
       "  <tbody>\n",
       "    <tr>\n",
       "      <th>count</th>\n",
       "      <td>3287.000000</td>\n",
       "      <td>3287.000000</td>\n",
       "    </tr>\n",
       "    <tr>\n",
       "      <th>mean</th>\n",
       "      <td>21.857250</td>\n",
       "      <td>50.309705</td>\n",
       "    </tr>\n",
       "    <tr>\n",
       "      <th>std</th>\n",
       "      <td>29.847462</td>\n",
       "      <td>28.847379</td>\n",
       "    </tr>\n",
       "    <tr>\n",
       "      <th>min</th>\n",
       "      <td>0.620000</td>\n",
       "      <td>1.000000</td>\n",
       "    </tr>\n",
       "    <tr>\n",
       "      <th>25%</th>\n",
       "      <td>6.990000</td>\n",
       "      <td>25.000000</td>\n",
       "    </tr>\n",
       "    <tr>\n",
       "      <th>50%</th>\n",
       "      <td>13.060000</td>\n",
       "      <td>51.000000</td>\n",
       "    </tr>\n",
       "    <tr>\n",
       "      <th>75%</th>\n",
       "      <td>22.990000</td>\n",
       "      <td>76.000000</td>\n",
       "    </tr>\n",
       "    <tr>\n",
       "      <th>max</th>\n",
       "      <td>300.000000</td>\n",
       "      <td>99.000000</td>\n",
       "    </tr>\n",
       "  </tbody>\n",
       "</table>\n",
       "</div>"
      ],
      "text/plain": [
       "             price  stock_quantity\n",
       "count  3287.000000     3287.000000\n",
       "mean     21.857250       50.309705\n",
       "std      29.847462       28.847379\n",
       "min       0.620000        1.000000\n",
       "25%       6.990000       25.000000\n",
       "50%      13.060000       51.000000\n",
       "75%      22.990000       76.000000\n",
       "max     300.000000       99.000000"
      ]
     },
     "execution_count": 45,
     "metadata": {},
     "output_type": "execute_result"
    }
   ],
   "source": [
    "produits_df.describe()"
   ]
  },
  {
   "cell_type": "code",
   "execution_count": 46,
   "id": "e5ac9323-c2bb-48d6-a5b1-d6db0678541f",
   "metadata": {},
   "outputs": [
    {
     "data": {
      "text/plain": [
       "np.int64(0)"
      ]
     },
     "execution_count": 46,
     "metadata": {},
     "output_type": "execute_result"
    }
   ],
   "source": [
    "produits_df.duplicated().sum()"
   ]
  },
  {
   "cell_type": "code",
   "execution_count": 47,
   "id": "9eb33fb2",
   "metadata": {},
   "outputs": [
    {
     "data": {
      "text/plain": [
       "product_id        0\n",
       "category          0\n",
       "sub_category      0\n",
       "price             0\n",
       "stock_quantity    0\n",
       "dtype: int64"
      ]
     },
     "execution_count": 47,
     "metadata": {},
     "output_type": "execute_result"
    }
   ],
   "source": [
    "produits_df.isnull().sum()"
   ]
  },
  {
   "cell_type": "markdown",
   "id": "0ecd954f",
   "metadata": {},
   "source": [
    "## Ventes"
   ]
  },
  {
   "cell_type": "code",
   "execution_count": 48,
   "id": "99bf2e45",
   "metadata": {},
   "outputs": [
    {
     "data": {
      "text/plain": [
       "(337016, 5)"
      ]
     },
     "execution_count": 48,
     "metadata": {},
     "output_type": "execute_result"
    }
   ],
   "source": [
    "ventes_df.shape"
   ]
  },
  {
   "cell_type": "code",
   "execution_count": 49,
   "id": "2e313653",
   "metadata": {},
   "outputs": [
    {
     "name": "stdout",
     "output_type": "stream",
     "text": [
      "<class 'pandas.core.frame.DataFrame'>\n",
      "RangeIndex: 337016 entries, 0 to 337015\n",
      "Data columns (total 5 columns):\n",
      " #   Column         Non-Null Count   Dtype \n",
      "---  ------         --------------   ----- \n",
      " 0   id_prod        337016 non-null  object\n",
      " 1   date           337016 non-null  object\n",
      " 2   session_id     337016 non-null  object\n",
      " 3   client_id      337016 non-null  object\n",
      " 4   quantity_sold  337016 non-null  int64 \n",
      "dtypes: int64(1), object(4)\n",
      "memory usage: 12.9+ MB\n"
     ]
    }
   ],
   "source": [
    "ventes_df.info()"
   ]
  },
  {
   "cell_type": "code",
   "execution_count": 50,
   "id": "31aa97f0",
   "metadata": {},
   "outputs": [
    {
     "data": {
      "text/html": [
       "<div>\n",
       "<style scoped>\n",
       "    .dataframe tbody tr th:only-of-type {\n",
       "        vertical-align: middle;\n",
       "    }\n",
       "\n",
       "    .dataframe tbody tr th {\n",
       "        vertical-align: top;\n",
       "    }\n",
       "\n",
       "    .dataframe thead th {\n",
       "        text-align: right;\n",
       "    }\n",
       "</style>\n",
       "<table border=\"1\" class=\"dataframe\">\n",
       "  <thead>\n",
       "    <tr style=\"text-align: right;\">\n",
       "      <th></th>\n",
       "      <th>quantity_sold</th>\n",
       "    </tr>\n",
       "  </thead>\n",
       "  <tbody>\n",
       "    <tr>\n",
       "      <th>count</th>\n",
       "      <td>337016.000000</td>\n",
       "    </tr>\n",
       "    <tr>\n",
       "      <th>mean</th>\n",
       "      <td>5.498522</td>\n",
       "    </tr>\n",
       "    <tr>\n",
       "      <th>std</th>\n",
       "      <td>2.874598</td>\n",
       "    </tr>\n",
       "    <tr>\n",
       "      <th>min</th>\n",
       "      <td>1.000000</td>\n",
       "    </tr>\n",
       "    <tr>\n",
       "      <th>25%</th>\n",
       "      <td>3.000000</td>\n",
       "    </tr>\n",
       "    <tr>\n",
       "      <th>50%</th>\n",
       "      <td>5.000000</td>\n",
       "    </tr>\n",
       "    <tr>\n",
       "      <th>75%</th>\n",
       "      <td>8.000000</td>\n",
       "    </tr>\n",
       "    <tr>\n",
       "      <th>max</th>\n",
       "      <td>10.000000</td>\n",
       "    </tr>\n",
       "  </tbody>\n",
       "</table>\n",
       "</div>"
      ],
      "text/plain": [
       "       quantity_sold\n",
       "count  337016.000000\n",
       "mean        5.498522\n",
       "std         2.874598\n",
       "min         1.000000\n",
       "25%         3.000000\n",
       "50%         5.000000\n",
       "75%         8.000000\n",
       "max        10.000000"
      ]
     },
     "execution_count": 50,
     "metadata": {},
     "output_type": "execute_result"
    }
   ],
   "source": [
    "ventes_df.describe()"
   ]
  },
  {
   "cell_type": "code",
   "execution_count": 51,
   "id": "b2af0349",
   "metadata": {},
   "outputs": [
    {
     "data": {
      "text/plain": [
       "id_prod          0\n",
       "date             0\n",
       "session_id       0\n",
       "client_id        0\n",
       "quantity_sold    0\n",
       "dtype: int64"
      ]
     },
     "execution_count": 51,
     "metadata": {},
     "output_type": "execute_result"
    }
   ],
   "source": [
    "ventes_df.isnull().sum()"
   ]
  },
  {
   "cell_type": "code",
   "execution_count": 52,
   "id": "0ce77811",
   "metadata": {},
   "outputs": [
    {
     "data": {
      "text/plain": [
       "np.int64(18)"
      ]
     },
     "execution_count": 52,
     "metadata": {},
     "output_type": "execute_result"
    }
   ],
   "source": [
    "ventes_df.duplicated().sum()"
   ]
  },
  {
   "cell_type": "markdown",
   "id": "565f5d04",
   "metadata": {},
   "source": [
    "Il y a 18 doublons dans la table ventes qu'il faudra supprimer"
   ]
  },
  {
   "cell_type": "code",
   "execution_count": 53,
   "id": "c630cb01",
   "metadata": {},
   "outputs": [
    {
     "data": {
      "text/plain": [
       "np.int64(0)"
      ]
     },
     "execution_count": 53,
     "metadata": {},
     "output_type": "execute_result"
    }
   ],
   "source": [
    "ventes_df_clean.duplicated().sum()"
   ]
  },
  {
   "cell_type": "markdown",
   "id": "4b7f1734",
   "metadata": {},
   "source": [
    "Les modifications ont été apportées concernant les doublons nous avons maintenant une table propre sans doublons"
   ]
  },
  {
   "cell_type": "markdown",
   "id": "99126521",
   "metadata": {},
   "source": [
    "# Merge des tables"
   ]
  },
  {
   "cell_type": "code",
   "execution_count": 54,
   "id": "95d5cf0a",
   "metadata": {},
   "outputs": [],
   "source": [
    "first_merge = ventes_df.merge(produits_df, left_on='id_prod', right_on='product_id', how='left')"
   ]
  },
  {
   "cell_type": "code",
   "execution_count": 55,
   "id": "2314fe5e",
   "metadata": {},
   "outputs": [
    {
     "data": {
      "text/html": [
       "<div>\n",
       "<style scoped>\n",
       "    .dataframe tbody tr th:only-of-type {\n",
       "        vertical-align: middle;\n",
       "    }\n",
       "\n",
       "    .dataframe tbody tr th {\n",
       "        vertical-align: top;\n",
       "    }\n",
       "\n",
       "    .dataframe thead th {\n",
       "        text-align: right;\n",
       "    }\n",
       "</style>\n",
       "<table border=\"1\" class=\"dataframe\">\n",
       "  <thead>\n",
       "    <tr style=\"text-align: right;\">\n",
       "      <th></th>\n",
       "      <th>id_prod</th>\n",
       "      <th>date</th>\n",
       "      <th>session_id</th>\n",
       "      <th>client_id</th>\n",
       "      <th>quantity_sold</th>\n",
       "      <th>product_id</th>\n",
       "      <th>category</th>\n",
       "      <th>sub_category</th>\n",
       "      <th>price</th>\n",
       "      <th>stock_quantity</th>\n",
       "    </tr>\n",
       "  </thead>\n",
       "  <tbody>\n",
       "    <tr>\n",
       "      <th>0</th>\n",
       "      <td>0_1483</td>\n",
       "      <td>2021-04-10 18:37:28.723910</td>\n",
       "      <td>s_18746</td>\n",
       "      <td>c_4450</td>\n",
       "      <td>5</td>\n",
       "      <td>0_1483</td>\n",
       "      <td>Vêtements</td>\n",
       "      <td>T-shirts</td>\n",
       "      <td>4.99</td>\n",
       "      <td>48.0</td>\n",
       "    </tr>\n",
       "    <tr>\n",
       "      <th>1</th>\n",
       "      <td>2_226</td>\n",
       "      <td>2022-02-03 01:55:53.276402</td>\n",
       "      <td>s_159142</td>\n",
       "      <td>c_277</td>\n",
       "      <td>6</td>\n",
       "      <td>2_226</td>\n",
       "      <td>Montres</td>\n",
       "      <td>Montres connectées</td>\n",
       "      <td>65.75</td>\n",
       "      <td>63.0</td>\n",
       "    </tr>\n",
       "    <tr>\n",
       "      <th>2</th>\n",
       "      <td>1_374</td>\n",
       "      <td>2021-09-23 15:13:46.938559</td>\n",
       "      <td>s_94290</td>\n",
       "      <td>c_4270</td>\n",
       "      <td>3</td>\n",
       "      <td>1_374</td>\n",
       "      <td>Accessoires</td>\n",
       "      <td>Sacs à main</td>\n",
       "      <td>10.71</td>\n",
       "      <td>97.0</td>\n",
       "    </tr>\n",
       "    <tr>\n",
       "      <th>3</th>\n",
       "      <td>0_2186</td>\n",
       "      <td>2021-10-17 03:27:18.783634</td>\n",
       "      <td>s_105936</td>\n",
       "      <td>c_4597</td>\n",
       "      <td>8</td>\n",
       "      <td>0_2186</td>\n",
       "      <td>Vêtements</td>\n",
       "      <td>T-shirts</td>\n",
       "      <td>4.20</td>\n",
       "      <td>57.0</td>\n",
       "    </tr>\n",
       "    <tr>\n",
       "      <th>4</th>\n",
       "      <td>0_1351</td>\n",
       "      <td>2021-07-17 20:34:25.800563</td>\n",
       "      <td>s_63642</td>\n",
       "      <td>c_1242</td>\n",
       "      <td>2</td>\n",
       "      <td>0_1351</td>\n",
       "      <td>Vêtements</td>\n",
       "      <td>T-shirts</td>\n",
       "      <td>8.99</td>\n",
       "      <td>59.0</td>\n",
       "    </tr>\n",
       "  </tbody>\n",
       "</table>\n",
       "</div>"
      ],
      "text/plain": [
       "  id_prod                        date session_id client_id  quantity_sold  \\\n",
       "0  0_1483  2021-04-10 18:37:28.723910    s_18746    c_4450              5   \n",
       "1   2_226  2022-02-03 01:55:53.276402   s_159142     c_277              6   \n",
       "2   1_374  2021-09-23 15:13:46.938559    s_94290    c_4270              3   \n",
       "3  0_2186  2021-10-17 03:27:18.783634   s_105936    c_4597              8   \n",
       "4  0_1351  2021-07-17 20:34:25.800563    s_63642    c_1242              2   \n",
       "\n",
       "  product_id     category        sub_category  price  stock_quantity  \n",
       "0     0_1483    Vêtements            T-shirts   4.99            48.0  \n",
       "1      2_226      Montres  Montres connectées  65.75            63.0  \n",
       "2      1_374  Accessoires         Sacs à main  10.71            97.0  \n",
       "3     0_2186    Vêtements            T-shirts   4.20            57.0  \n",
       "4     0_1351    Vêtements            T-shirts   8.99            59.0  "
      ]
     },
     "execution_count": 55,
     "metadata": {},
     "output_type": "execute_result"
    }
   ],
   "source": [
    "first_merge.head()"
   ]
  },
  {
   "cell_type": "code",
   "execution_count": 56,
   "id": "2b911491",
   "metadata": {},
   "outputs": [],
   "source": [
    "final_merge = first_merge.merge(clients_df, on='client_id', how='left')"
   ]
  },
  {
   "cell_type": "code",
   "execution_count": 57,
   "id": "1ba01ff2",
   "metadata": {},
   "outputs": [
    {
     "data": {
      "text/html": [
       "<div>\n",
       "<style scoped>\n",
       "    .dataframe tbody tr th:only-of-type {\n",
       "        vertical-align: middle;\n",
       "    }\n",
       "\n",
       "    .dataframe tbody tr th {\n",
       "        vertical-align: top;\n",
       "    }\n",
       "\n",
       "    .dataframe thead th {\n",
       "        text-align: right;\n",
       "    }\n",
       "</style>\n",
       "<table border=\"1\" class=\"dataframe\">\n",
       "  <thead>\n",
       "    <tr style=\"text-align: right;\">\n",
       "      <th></th>\n",
       "      <th>id_prod</th>\n",
       "      <th>date</th>\n",
       "      <th>session_id</th>\n",
       "      <th>client_id</th>\n",
       "      <th>quantity_sold</th>\n",
       "      <th>product_id</th>\n",
       "      <th>category</th>\n",
       "      <th>sub_category</th>\n",
       "      <th>price</th>\n",
       "      <th>stock_quantity</th>\n",
       "      <th>sex</th>\n",
       "      <th>birth</th>\n",
       "    </tr>\n",
       "  </thead>\n",
       "  <tbody>\n",
       "    <tr>\n",
       "      <th>0</th>\n",
       "      <td>0_1483</td>\n",
       "      <td>2021-04-10 18:37:28.723910</td>\n",
       "      <td>s_18746</td>\n",
       "      <td>c_4450</td>\n",
       "      <td>5</td>\n",
       "      <td>0_1483</td>\n",
       "      <td>Vêtements</td>\n",
       "      <td>T-shirts</td>\n",
       "      <td>4.99</td>\n",
       "      <td>48.0</td>\n",
       "      <td>f</td>\n",
       "      <td>1977</td>\n",
       "    </tr>\n",
       "    <tr>\n",
       "      <th>1</th>\n",
       "      <td>2_226</td>\n",
       "      <td>2022-02-03 01:55:53.276402</td>\n",
       "      <td>s_159142</td>\n",
       "      <td>c_277</td>\n",
       "      <td>6</td>\n",
       "      <td>2_226</td>\n",
       "      <td>Montres</td>\n",
       "      <td>Montres connectées</td>\n",
       "      <td>65.75</td>\n",
       "      <td>63.0</td>\n",
       "      <td>f</td>\n",
       "      <td>2000</td>\n",
       "    </tr>\n",
       "    <tr>\n",
       "      <th>2</th>\n",
       "      <td>1_374</td>\n",
       "      <td>2021-09-23 15:13:46.938559</td>\n",
       "      <td>s_94290</td>\n",
       "      <td>c_4270</td>\n",
       "      <td>3</td>\n",
       "      <td>1_374</td>\n",
       "      <td>Accessoires</td>\n",
       "      <td>Sacs à main</td>\n",
       "      <td>10.71</td>\n",
       "      <td>97.0</td>\n",
       "      <td>f</td>\n",
       "      <td>1979</td>\n",
       "    </tr>\n",
       "    <tr>\n",
       "      <th>3</th>\n",
       "      <td>0_2186</td>\n",
       "      <td>2021-10-17 03:27:18.783634</td>\n",
       "      <td>s_105936</td>\n",
       "      <td>c_4597</td>\n",
       "      <td>8</td>\n",
       "      <td>0_2186</td>\n",
       "      <td>Vêtements</td>\n",
       "      <td>T-shirts</td>\n",
       "      <td>4.20</td>\n",
       "      <td>57.0</td>\n",
       "      <td>m</td>\n",
       "      <td>1963</td>\n",
       "    </tr>\n",
       "    <tr>\n",
       "      <th>4</th>\n",
       "      <td>0_1351</td>\n",
       "      <td>2021-07-17 20:34:25.800563</td>\n",
       "      <td>s_63642</td>\n",
       "      <td>c_1242</td>\n",
       "      <td>2</td>\n",
       "      <td>0_1351</td>\n",
       "      <td>Vêtements</td>\n",
       "      <td>T-shirts</td>\n",
       "      <td>8.99</td>\n",
       "      <td>59.0</td>\n",
       "      <td>f</td>\n",
       "      <td>1980</td>\n",
       "    </tr>\n",
       "  </tbody>\n",
       "</table>\n",
       "</div>"
      ],
      "text/plain": [
       "  id_prod                        date session_id client_id  quantity_sold  \\\n",
       "0  0_1483  2021-04-10 18:37:28.723910    s_18746    c_4450              5   \n",
       "1   2_226  2022-02-03 01:55:53.276402   s_159142     c_277              6   \n",
       "2   1_374  2021-09-23 15:13:46.938559    s_94290    c_4270              3   \n",
       "3  0_2186  2021-10-17 03:27:18.783634   s_105936    c_4597              8   \n",
       "4  0_1351  2021-07-17 20:34:25.800563    s_63642    c_1242              2   \n",
       "\n",
       "  product_id     category        sub_category  price  stock_quantity sex  \\\n",
       "0     0_1483    Vêtements            T-shirts   4.99            48.0   f   \n",
       "1      2_226      Montres  Montres connectées  65.75            63.0   f   \n",
       "2      1_374  Accessoires         Sacs à main  10.71            97.0   f   \n",
       "3     0_2186    Vêtements            T-shirts   4.20            57.0   m   \n",
       "4     0_1351    Vêtements            T-shirts   8.99            59.0   f   \n",
       "\n",
       "   birth  \n",
       "0   1977  \n",
       "1   2000  \n",
       "2   1979  \n",
       "3   1963  \n",
       "4   1980  "
      ]
     },
     "execution_count": 57,
     "metadata": {},
     "output_type": "execute_result"
    }
   ],
   "source": [
    "final_merge.head()"
   ]
  },
  {
   "cell_type": "markdown",
   "id": "0d88c739",
   "metadata": {},
   "source": [
    "Nos 3 tables sont réunies en 1 seule."
   ]
  },
  {
   "cell_type": "code",
   "execution_count": 58,
   "id": "bdd9490d",
   "metadata": {},
   "outputs": [
    {
     "data": {
      "text/plain": [
       "id_prod             0\n",
       "date                0\n",
       "session_id          0\n",
       "client_id           0\n",
       "quantity_sold       0\n",
       "product_id        103\n",
       "category          103\n",
       "sub_category      103\n",
       "price             103\n",
       "stock_quantity    103\n",
       "sex                 0\n",
       "birth               0\n",
       "dtype: int64"
      ]
     },
     "execution_count": 58,
     "metadata": {},
     "output_type": "execute_result"
    }
   ],
   "source": [
    "final_merge.isnull().sum()"
   ]
  },
  {
   "cell_type": "markdown",
   "id": "6381029e",
   "metadata": {},
   "source": [
    "Nous constatons que 103 ventes n'ont pas de produits rattachés. Il faut déterminer si nous souhaitons conserver ces ventes ou les supprimer de notre df."
   ]
  },
  {
   "cell_type": "code",
   "execution_count": 59,
   "id": "9e20bba9",
   "metadata": {},
   "outputs": [],
   "source": [
    "final_merge['age'] = 2024 - final_merge['birth'] "
   ]
  },
  {
   "cell_type": "code",
   "execution_count": 60,
   "id": "d624cce1",
   "metadata": {},
   "outputs": [
    {
     "data": {
      "text/html": [
       "<div>\n",
       "<style scoped>\n",
       "    .dataframe tbody tr th:only-of-type {\n",
       "        vertical-align: middle;\n",
       "    }\n",
       "\n",
       "    .dataframe tbody tr th {\n",
       "        vertical-align: top;\n",
       "    }\n",
       "\n",
       "    .dataframe thead th {\n",
       "        text-align: right;\n",
       "    }\n",
       "</style>\n",
       "<table border=\"1\" class=\"dataframe\">\n",
       "  <thead>\n",
       "    <tr style=\"text-align: right;\">\n",
       "      <th></th>\n",
       "      <th>id_prod</th>\n",
       "      <th>date</th>\n",
       "      <th>session_id</th>\n",
       "      <th>client_id</th>\n",
       "      <th>quantity_sold</th>\n",
       "      <th>product_id</th>\n",
       "      <th>category</th>\n",
       "      <th>sub_category</th>\n",
       "      <th>price</th>\n",
       "      <th>stock_quantity</th>\n",
       "      <th>sex</th>\n",
       "      <th>birth</th>\n",
       "      <th>age</th>\n",
       "    </tr>\n",
       "  </thead>\n",
       "  <tbody>\n",
       "    <tr>\n",
       "      <th>0</th>\n",
       "      <td>0_1483</td>\n",
       "      <td>2021-04-10 18:37:28.723910</td>\n",
       "      <td>s_18746</td>\n",
       "      <td>c_4450</td>\n",
       "      <td>5</td>\n",
       "      <td>0_1483</td>\n",
       "      <td>Vêtements</td>\n",
       "      <td>T-shirts</td>\n",
       "      <td>4.99</td>\n",
       "      <td>48.0</td>\n",
       "      <td>f</td>\n",
       "      <td>1977</td>\n",
       "      <td>47</td>\n",
       "    </tr>\n",
       "    <tr>\n",
       "      <th>1</th>\n",
       "      <td>2_226</td>\n",
       "      <td>2022-02-03 01:55:53.276402</td>\n",
       "      <td>s_159142</td>\n",
       "      <td>c_277</td>\n",
       "      <td>6</td>\n",
       "      <td>2_226</td>\n",
       "      <td>Montres</td>\n",
       "      <td>Montres connectées</td>\n",
       "      <td>65.75</td>\n",
       "      <td>63.0</td>\n",
       "      <td>f</td>\n",
       "      <td>2000</td>\n",
       "      <td>24</td>\n",
       "    </tr>\n",
       "    <tr>\n",
       "      <th>2</th>\n",
       "      <td>1_374</td>\n",
       "      <td>2021-09-23 15:13:46.938559</td>\n",
       "      <td>s_94290</td>\n",
       "      <td>c_4270</td>\n",
       "      <td>3</td>\n",
       "      <td>1_374</td>\n",
       "      <td>Accessoires</td>\n",
       "      <td>Sacs à main</td>\n",
       "      <td>10.71</td>\n",
       "      <td>97.0</td>\n",
       "      <td>f</td>\n",
       "      <td>1979</td>\n",
       "      <td>45</td>\n",
       "    </tr>\n",
       "    <tr>\n",
       "      <th>3</th>\n",
       "      <td>0_2186</td>\n",
       "      <td>2021-10-17 03:27:18.783634</td>\n",
       "      <td>s_105936</td>\n",
       "      <td>c_4597</td>\n",
       "      <td>8</td>\n",
       "      <td>0_2186</td>\n",
       "      <td>Vêtements</td>\n",
       "      <td>T-shirts</td>\n",
       "      <td>4.20</td>\n",
       "      <td>57.0</td>\n",
       "      <td>m</td>\n",
       "      <td>1963</td>\n",
       "      <td>61</td>\n",
       "    </tr>\n",
       "    <tr>\n",
       "      <th>4</th>\n",
       "      <td>0_1351</td>\n",
       "      <td>2021-07-17 20:34:25.800563</td>\n",
       "      <td>s_63642</td>\n",
       "      <td>c_1242</td>\n",
       "      <td>2</td>\n",
       "      <td>0_1351</td>\n",
       "      <td>Vêtements</td>\n",
       "      <td>T-shirts</td>\n",
       "      <td>8.99</td>\n",
       "      <td>59.0</td>\n",
       "      <td>f</td>\n",
       "      <td>1980</td>\n",
       "      <td>44</td>\n",
       "    </tr>\n",
       "  </tbody>\n",
       "</table>\n",
       "</div>"
      ],
      "text/plain": [
       "  id_prod                        date session_id client_id  quantity_sold  \\\n",
       "0  0_1483  2021-04-10 18:37:28.723910    s_18746    c_4450              5   \n",
       "1   2_226  2022-02-03 01:55:53.276402   s_159142     c_277              6   \n",
       "2   1_374  2021-09-23 15:13:46.938559    s_94290    c_4270              3   \n",
       "3  0_2186  2021-10-17 03:27:18.783634   s_105936    c_4597              8   \n",
       "4  0_1351  2021-07-17 20:34:25.800563    s_63642    c_1242              2   \n",
       "\n",
       "  product_id     category        sub_category  price  stock_quantity sex  \\\n",
       "0     0_1483    Vêtements            T-shirts   4.99            48.0   f   \n",
       "1      2_226      Montres  Montres connectées  65.75            63.0   f   \n",
       "2      1_374  Accessoires         Sacs à main  10.71            97.0   f   \n",
       "3     0_2186    Vêtements            T-shirts   4.20            57.0   m   \n",
       "4     0_1351    Vêtements            T-shirts   8.99            59.0   f   \n",
       "\n",
       "   birth  age  \n",
       "0   1977   47  \n",
       "1   2000   24  \n",
       "2   1979   45  \n",
       "3   1963   61  \n",
       "4   1980   44  "
      ]
     },
     "execution_count": 60,
     "metadata": {},
     "output_type": "execute_result"
    }
   ],
   "source": [
    "final_merge.head()"
   ]
  },
  {
   "cell_type": "code",
   "execution_count": 61,
   "id": "2b7b9bd0",
   "metadata": {},
   "outputs": [
    {
     "data": {
      "text/plain": [
       "id_prod            object\n",
       "date               object\n",
       "session_id         object\n",
       "client_id          object\n",
       "quantity_sold       int64\n",
       "product_id         object\n",
       "category           object\n",
       "sub_category       object\n",
       "price             float64\n",
       "stock_quantity    float64\n",
       "sex                object\n",
       "birth               int64\n",
       "age                 int64\n",
       "dtype: object"
      ]
     },
     "execution_count": 61,
     "metadata": {},
     "output_type": "execute_result"
    }
   ],
   "source": [
    "final_merge.dtypes"
   ]
  },
  {
   "cell_type": "code",
   "execution_count": 62,
   "id": "0741b7aa",
   "metadata": {},
   "outputs": [],
   "source": [
    "final_merge['date'] = pd.to_datetime(final_merge['date'], errors = 'coerce')"
   ]
  },
  {
   "cell_type": "code",
   "execution_count": 63,
   "id": "8ff3873e",
   "metadata": {},
   "outputs": [
    {
     "data": {
      "text/plain": [
       "id_prod                   object\n",
       "date              datetime64[ns]\n",
       "session_id                object\n",
       "client_id                 object\n",
       "quantity_sold              int64\n",
       "product_id                object\n",
       "category                  object\n",
       "sub_category              object\n",
       "price                    float64\n",
       "stock_quantity           float64\n",
       "sex                       object\n",
       "birth                      int64\n",
       "age                        int64\n",
       "dtype: object"
      ]
     },
     "execution_count": 63,
     "metadata": {},
     "output_type": "execute_result"
    }
   ],
   "source": [
    "final_merge.dtypes"
   ]
  },
  {
   "cell_type": "code",
   "execution_count": 64,
   "id": "95771095",
   "metadata": {},
   "outputs": [],
   "source": [
    "final_merge = final_merge.dropna(subset=['date'])"
   ]
  },
  {
   "cell_type": "code",
   "execution_count": 65,
   "id": "8b767ae7",
   "metadata": {},
   "outputs": [
    {
     "name": "stdout",
     "output_type": "stream",
     "text": [
      "Empty DataFrame\n",
      "Columns: [id_prod, date]\n",
      "Index: []\n"
     ]
    }
   ],
   "source": [
    "missing_day_df = final_merge[final_merge['date'].isna()]\n",
    "print(missing_day_df[['id_prod','date']])"
   ]
  },
  {
   "cell_type": "code",
   "execution_count": 66,
   "id": "dcbbe690",
   "metadata": {},
   "outputs": [],
   "source": [
    "final_merge['year'] = final_merge['date'].dt.year.astype(int)\n",
    "final_merge['month'] = final_merge['date'].dt.strftime('%B')  # Full month name\n",
    "final_merge['day'] = final_merge['date'].dt.day.astype(int)\n",
    "final_merge['time'] = final_merge['date'].dt.strftime('%H:%M:%S')"
   ]
  },
  {
   "cell_type": "code",
   "execution_count": 67,
   "id": "f750c975",
   "metadata": {},
   "outputs": [
    {
     "data": {
      "text/html": [
       "<div>\n",
       "<style scoped>\n",
       "    .dataframe tbody tr th:only-of-type {\n",
       "        vertical-align: middle;\n",
       "    }\n",
       "\n",
       "    .dataframe tbody tr th {\n",
       "        vertical-align: top;\n",
       "    }\n",
       "\n",
       "    .dataframe thead th {\n",
       "        text-align: right;\n",
       "    }\n",
       "</style>\n",
       "<table border=\"1\" class=\"dataframe\">\n",
       "  <thead>\n",
       "    <tr style=\"text-align: right;\">\n",
       "      <th></th>\n",
       "      <th>id_prod</th>\n",
       "      <th>date</th>\n",
       "      <th>session_id</th>\n",
       "      <th>client_id</th>\n",
       "      <th>quantity_sold</th>\n",
       "      <th>product_id</th>\n",
       "      <th>category</th>\n",
       "      <th>sub_category</th>\n",
       "      <th>price</th>\n",
       "      <th>stock_quantity</th>\n",
       "      <th>sex</th>\n",
       "      <th>birth</th>\n",
       "      <th>age</th>\n",
       "      <th>year</th>\n",
       "      <th>month</th>\n",
       "      <th>day</th>\n",
       "      <th>time</th>\n",
       "    </tr>\n",
       "  </thead>\n",
       "  <tbody>\n",
       "    <tr>\n",
       "      <th>0</th>\n",
       "      <td>0_1483</td>\n",
       "      <td>2021-04-10 18:37:28.723910</td>\n",
       "      <td>s_18746</td>\n",
       "      <td>c_4450</td>\n",
       "      <td>5</td>\n",
       "      <td>0_1483</td>\n",
       "      <td>Vêtements</td>\n",
       "      <td>T-shirts</td>\n",
       "      <td>4.99</td>\n",
       "      <td>48.0</td>\n",
       "      <td>f</td>\n",
       "      <td>1977</td>\n",
       "      <td>47</td>\n",
       "      <td>2021</td>\n",
       "      <td>April</td>\n",
       "      <td>10</td>\n",
       "      <td>18:37:28</td>\n",
       "    </tr>\n",
       "    <tr>\n",
       "      <th>1</th>\n",
       "      <td>2_226</td>\n",
       "      <td>2022-02-03 01:55:53.276402</td>\n",
       "      <td>s_159142</td>\n",
       "      <td>c_277</td>\n",
       "      <td>6</td>\n",
       "      <td>2_226</td>\n",
       "      <td>Montres</td>\n",
       "      <td>Montres connectées</td>\n",
       "      <td>65.75</td>\n",
       "      <td>63.0</td>\n",
       "      <td>f</td>\n",
       "      <td>2000</td>\n",
       "      <td>24</td>\n",
       "      <td>2022</td>\n",
       "      <td>February</td>\n",
       "      <td>3</td>\n",
       "      <td>01:55:53</td>\n",
       "    </tr>\n",
       "    <tr>\n",
       "      <th>2</th>\n",
       "      <td>1_374</td>\n",
       "      <td>2021-09-23 15:13:46.938559</td>\n",
       "      <td>s_94290</td>\n",
       "      <td>c_4270</td>\n",
       "      <td>3</td>\n",
       "      <td>1_374</td>\n",
       "      <td>Accessoires</td>\n",
       "      <td>Sacs à main</td>\n",
       "      <td>10.71</td>\n",
       "      <td>97.0</td>\n",
       "      <td>f</td>\n",
       "      <td>1979</td>\n",
       "      <td>45</td>\n",
       "      <td>2021</td>\n",
       "      <td>September</td>\n",
       "      <td>23</td>\n",
       "      <td>15:13:46</td>\n",
       "    </tr>\n",
       "    <tr>\n",
       "      <th>3</th>\n",
       "      <td>0_2186</td>\n",
       "      <td>2021-10-17 03:27:18.783634</td>\n",
       "      <td>s_105936</td>\n",
       "      <td>c_4597</td>\n",
       "      <td>8</td>\n",
       "      <td>0_2186</td>\n",
       "      <td>Vêtements</td>\n",
       "      <td>T-shirts</td>\n",
       "      <td>4.20</td>\n",
       "      <td>57.0</td>\n",
       "      <td>m</td>\n",
       "      <td>1963</td>\n",
       "      <td>61</td>\n",
       "      <td>2021</td>\n",
       "      <td>October</td>\n",
       "      <td>17</td>\n",
       "      <td>03:27:18</td>\n",
       "    </tr>\n",
       "    <tr>\n",
       "      <th>4</th>\n",
       "      <td>0_1351</td>\n",
       "      <td>2021-07-17 20:34:25.800563</td>\n",
       "      <td>s_63642</td>\n",
       "      <td>c_1242</td>\n",
       "      <td>2</td>\n",
       "      <td>0_1351</td>\n",
       "      <td>Vêtements</td>\n",
       "      <td>T-shirts</td>\n",
       "      <td>8.99</td>\n",
       "      <td>59.0</td>\n",
       "      <td>f</td>\n",
       "      <td>1980</td>\n",
       "      <td>44</td>\n",
       "      <td>2021</td>\n",
       "      <td>July</td>\n",
       "      <td>17</td>\n",
       "      <td>20:34:25</td>\n",
       "    </tr>\n",
       "  </tbody>\n",
       "</table>\n",
       "</div>"
      ],
      "text/plain": [
       "  id_prod                       date session_id client_id  quantity_sold  \\\n",
       "0  0_1483 2021-04-10 18:37:28.723910    s_18746    c_4450              5   \n",
       "1   2_226 2022-02-03 01:55:53.276402   s_159142     c_277              6   \n",
       "2   1_374 2021-09-23 15:13:46.938559    s_94290    c_4270              3   \n",
       "3  0_2186 2021-10-17 03:27:18.783634   s_105936    c_4597              8   \n",
       "4  0_1351 2021-07-17 20:34:25.800563    s_63642    c_1242              2   \n",
       "\n",
       "  product_id     category        sub_category  price  stock_quantity sex  \\\n",
       "0     0_1483    Vêtements            T-shirts   4.99            48.0   f   \n",
       "1      2_226      Montres  Montres connectées  65.75            63.0   f   \n",
       "2      1_374  Accessoires         Sacs à main  10.71            97.0   f   \n",
       "3     0_2186    Vêtements            T-shirts   4.20            57.0   m   \n",
       "4     0_1351    Vêtements            T-shirts   8.99            59.0   f   \n",
       "\n",
       "   birth  age  year      month  day      time  \n",
       "0   1977   47  2021      April   10  18:37:28  \n",
       "1   2000   24  2022   February    3  01:55:53  \n",
       "2   1979   45  2021  September   23  15:13:46  \n",
       "3   1963   61  2021    October   17  03:27:18  \n",
       "4   1980   44  2021       July   17  20:34:25  "
      ]
     },
     "execution_count": 67,
     "metadata": {},
     "output_type": "execute_result"
    }
   ],
   "source": [
    "final_merge.head()"
   ]
  },
  {
   "cell_type": "code",
   "execution_count": 68,
   "id": "78f9cb7e",
   "metadata": {},
   "outputs": [],
   "source": [
    "columns = ['id_prod', 'year', 'month', 'day', 'time'] + [col for col in final_merge.columns if col not in ['id_prod', 'year', 'month', 'day', 'time']]\n",
    "final_merge = final_merge[columns]\n",
    "\n",
    "final_merge.drop(columns=['date'], inplace=True)"
   ]
  },
  {
   "cell_type": "code",
   "execution_count": 69,
   "id": "ff061d7b",
   "metadata": {},
   "outputs": [
    {
     "data": {
      "text/html": [
       "<div>\n",
       "<style scoped>\n",
       "    .dataframe tbody tr th:only-of-type {\n",
       "        vertical-align: middle;\n",
       "    }\n",
       "\n",
       "    .dataframe tbody tr th {\n",
       "        vertical-align: top;\n",
       "    }\n",
       "\n",
       "    .dataframe thead th {\n",
       "        text-align: right;\n",
       "    }\n",
       "</style>\n",
       "<table border=\"1\" class=\"dataframe\">\n",
       "  <thead>\n",
       "    <tr style=\"text-align: right;\">\n",
       "      <th></th>\n",
       "      <th>id_prod</th>\n",
       "      <th>year</th>\n",
       "      <th>month</th>\n",
       "      <th>day</th>\n",
       "      <th>time</th>\n",
       "      <th>session_id</th>\n",
       "      <th>client_id</th>\n",
       "      <th>quantity_sold</th>\n",
       "      <th>product_id</th>\n",
       "      <th>category</th>\n",
       "      <th>sub_category</th>\n",
       "      <th>price</th>\n",
       "      <th>stock_quantity</th>\n",
       "      <th>sex</th>\n",
       "      <th>birth</th>\n",
       "      <th>age</th>\n",
       "    </tr>\n",
       "  </thead>\n",
       "  <tbody>\n",
       "    <tr>\n",
       "      <th>0</th>\n",
       "      <td>0_1483</td>\n",
       "      <td>2021</td>\n",
       "      <td>April</td>\n",
       "      <td>10</td>\n",
       "      <td>18:37:28</td>\n",
       "      <td>s_18746</td>\n",
       "      <td>c_4450</td>\n",
       "      <td>5</td>\n",
       "      <td>0_1483</td>\n",
       "      <td>Vêtements</td>\n",
       "      <td>T-shirts</td>\n",
       "      <td>4.99</td>\n",
       "      <td>48.0</td>\n",
       "      <td>f</td>\n",
       "      <td>1977</td>\n",
       "      <td>47</td>\n",
       "    </tr>\n",
       "    <tr>\n",
       "      <th>1</th>\n",
       "      <td>2_226</td>\n",
       "      <td>2022</td>\n",
       "      <td>February</td>\n",
       "      <td>3</td>\n",
       "      <td>01:55:53</td>\n",
       "      <td>s_159142</td>\n",
       "      <td>c_277</td>\n",
       "      <td>6</td>\n",
       "      <td>2_226</td>\n",
       "      <td>Montres</td>\n",
       "      <td>Montres connectées</td>\n",
       "      <td>65.75</td>\n",
       "      <td>63.0</td>\n",
       "      <td>f</td>\n",
       "      <td>2000</td>\n",
       "      <td>24</td>\n",
       "    </tr>\n",
       "    <tr>\n",
       "      <th>2</th>\n",
       "      <td>1_374</td>\n",
       "      <td>2021</td>\n",
       "      <td>September</td>\n",
       "      <td>23</td>\n",
       "      <td>15:13:46</td>\n",
       "      <td>s_94290</td>\n",
       "      <td>c_4270</td>\n",
       "      <td>3</td>\n",
       "      <td>1_374</td>\n",
       "      <td>Accessoires</td>\n",
       "      <td>Sacs à main</td>\n",
       "      <td>10.71</td>\n",
       "      <td>97.0</td>\n",
       "      <td>f</td>\n",
       "      <td>1979</td>\n",
       "      <td>45</td>\n",
       "    </tr>\n",
       "    <tr>\n",
       "      <th>3</th>\n",
       "      <td>0_2186</td>\n",
       "      <td>2021</td>\n",
       "      <td>October</td>\n",
       "      <td>17</td>\n",
       "      <td>03:27:18</td>\n",
       "      <td>s_105936</td>\n",
       "      <td>c_4597</td>\n",
       "      <td>8</td>\n",
       "      <td>0_2186</td>\n",
       "      <td>Vêtements</td>\n",
       "      <td>T-shirts</td>\n",
       "      <td>4.20</td>\n",
       "      <td>57.0</td>\n",
       "      <td>m</td>\n",
       "      <td>1963</td>\n",
       "      <td>61</td>\n",
       "    </tr>\n",
       "    <tr>\n",
       "      <th>4</th>\n",
       "      <td>0_1351</td>\n",
       "      <td>2021</td>\n",
       "      <td>July</td>\n",
       "      <td>17</td>\n",
       "      <td>20:34:25</td>\n",
       "      <td>s_63642</td>\n",
       "      <td>c_1242</td>\n",
       "      <td>2</td>\n",
       "      <td>0_1351</td>\n",
       "      <td>Vêtements</td>\n",
       "      <td>T-shirts</td>\n",
       "      <td>8.99</td>\n",
       "      <td>59.0</td>\n",
       "      <td>f</td>\n",
       "      <td>1980</td>\n",
       "      <td>44</td>\n",
       "    </tr>\n",
       "  </tbody>\n",
       "</table>\n",
       "</div>"
      ],
      "text/plain": [
       "  id_prod  year      month  day      time session_id client_id  quantity_sold  \\\n",
       "0  0_1483  2021      April   10  18:37:28    s_18746    c_4450              5   \n",
       "1   2_226  2022   February    3  01:55:53   s_159142     c_277              6   \n",
       "2   1_374  2021  September   23  15:13:46    s_94290    c_4270              3   \n",
       "3  0_2186  2021    October   17  03:27:18   s_105936    c_4597              8   \n",
       "4  0_1351  2021       July   17  20:34:25    s_63642    c_1242              2   \n",
       "\n",
       "  product_id     category        sub_category  price  stock_quantity sex  \\\n",
       "0     0_1483    Vêtements            T-shirts   4.99            48.0   f   \n",
       "1      2_226      Montres  Montres connectées  65.75            63.0   f   \n",
       "2      1_374  Accessoires         Sacs à main  10.71            97.0   f   \n",
       "3     0_2186    Vêtements            T-shirts   4.20            57.0   m   \n",
       "4     0_1351    Vêtements            T-shirts   8.99            59.0   f   \n",
       "\n",
       "   birth  age  \n",
       "0   1977   47  \n",
       "1   2000   24  \n",
       "2   1979   45  \n",
       "3   1963   61  \n",
       "4   1980   44  "
      ]
     },
     "execution_count": 69,
     "metadata": {},
     "output_type": "execute_result"
    }
   ],
   "source": [
    "final_merge.head()"
   ]
  },
  {
   "cell_type": "code",
   "execution_count": 70,
   "id": "aafef433",
   "metadata": {},
   "outputs": [
    {
     "data": {
      "text/plain": [
       "id_prod             0\n",
       "year                0\n",
       "month               0\n",
       "day                 0\n",
       "time                0\n",
       "session_id          0\n",
       "client_id           0\n",
       "quantity_sold       0\n",
       "product_id        103\n",
       "category          103\n",
       "sub_category      103\n",
       "price             103\n",
       "stock_quantity    103\n",
       "sex                 0\n",
       "birth               0\n",
       "age                 0\n",
       "dtype: int64"
      ]
     },
     "execution_count": 70,
     "metadata": {},
     "output_type": "execute_result"
    }
   ],
   "source": [
    "final_merge.isnull().sum()"
   ]
  },
  {
   "cell_type": "code",
   "execution_count": 71,
   "id": "062b49ad",
   "metadata": {},
   "outputs": [
    {
     "name": "stdout",
     "output_type": "stream",
     "text": [
      "       id_prod  year      month  day      time session_id client_id  \\\n",
      "0       0_1483  2021      April   10  18:37:28    s_18746    c_4450   \n",
      "1        2_226  2022   February    3  01:55:53   s_159142     c_277   \n",
      "2        1_374  2021  September   23  15:13:46    s_94290    c_4270   \n",
      "3       0_2186  2021    October   17  03:27:18   s_105936    c_4597   \n",
      "4       0_1351  2021       July   17  20:34:25    s_63642    c_1242   \n",
      "...        ...   ...        ...  ...       ...        ...       ...   \n",
      "337011   1_671  2021        May   28  12:35:46    s_40720    c_3454   \n",
      "337012   0_759  2021       June   19  00:19:23    s_50568    c_6268   \n",
      "337013  0_1256  2021      March   16  17:31:59     s_7219    c_4137   \n",
      "337014   2_227  2021    October   30  16:50:15   s_112349       c_5   \n",
      "337015  0_1417  2021       June   26  14:38:19    s_54117    c_6714   \n",
      "\n",
      "        quantity_sold product_id     category        sub_category  price  \\\n",
      "0                   5     0_1483    Vêtements            T-shirts   4.99   \n",
      "1                   6      2_226      Montres  Montres connectées  65.75   \n",
      "2                   3      1_374  Accessoires         Sacs à main  10.71   \n",
      "3                   8     0_2186    Vêtements            T-shirts   4.20   \n",
      "4                   2     0_1351    Vêtements            T-shirts   8.99   \n",
      "...               ...        ...          ...                 ...    ...   \n",
      "337011              1      1_671  Accessoires         Sacs à main  31.99   \n",
      "337012             10      0_759    Vêtements            T-shirts  22.99   \n",
      "337013              7     0_1256    Vêtements            T-shirts  11.03   \n",
      "337014              8      2_227      Montres  Montres connectées  50.99   \n",
      "337015              3     0_1417    Vêtements            T-shirts  17.99   \n",
      "\n",
      "        stock_quantity sex  birth  age  \n",
      "0                 48.0   f   1977   47  \n",
      "1                 63.0   f   2000   24  \n",
      "2                 97.0   f   1979   45  \n",
      "3                 57.0   m   1963   61  \n",
      "4                 59.0   f   1980   44  \n",
      "...                ...  ..    ...  ...  \n",
      "337011            13.0   m   1969   55  \n",
      "337012            65.0   m   1991   33  \n",
      "337013            13.0   f   1968   56  \n",
      "337014            94.0   f   1994   30  \n",
      "337015            38.0   f   1968   56  \n",
      "\n",
      "[336713 rows x 16 columns]\n"
     ]
    }
   ],
   "source": [
    "final_merge = final_merge.dropna(subset=['product_id'])\n",
    "print(final_merge)"
   ]
  },
  {
   "cell_type": "code",
   "execution_count": 72,
   "id": "0a7c62bc",
   "metadata": {},
   "outputs": [
    {
     "data": {
      "text/plain": [
       "id_prod           0\n",
       "year              0\n",
       "month             0\n",
       "day               0\n",
       "time              0\n",
       "session_id        0\n",
       "client_id         0\n",
       "quantity_sold     0\n",
       "product_id        0\n",
       "category          0\n",
       "sub_category      0\n",
       "price             0\n",
       "stock_quantity    0\n",
       "sex               0\n",
       "birth             0\n",
       "age               0\n",
       "dtype: int64"
      ]
     },
     "execution_count": 72,
     "metadata": {},
     "output_type": "execute_result"
    }
   ],
   "source": [
    "final_merge.isnull().sum()"
   ]
  },
  {
   "cell_type": "code",
   "execution_count": 73,
   "id": "f40b04f4",
   "metadata": {},
   "outputs": [],
   "source": [
    "final_merge['stock_quantity'] = final_merge['stock_quantity'].astype('int64')"
   ]
  },
  {
   "cell_type": "code",
   "execution_count": 74,
   "id": "a0feed49",
   "metadata": {},
   "outputs": [
    {
     "data": {
      "text/plain": [
       "id_prod            object\n",
       "year                int64\n",
       "month              object\n",
       "day                 int64\n",
       "time               object\n",
       "session_id         object\n",
       "client_id          object\n",
       "quantity_sold       int64\n",
       "product_id         object\n",
       "category           object\n",
       "sub_category       object\n",
       "price             float64\n",
       "stock_quantity      int64\n",
       "sex                object\n",
       "birth               int64\n",
       "age                 int64\n",
       "dtype: object"
      ]
     },
     "execution_count": 74,
     "metadata": {},
     "output_type": "execute_result"
    }
   ],
   "source": [
    "final_merge.dtypes"
   ]
  },
  {
   "cell_type": "code",
   "execution_count": 75,
   "id": "52419881",
   "metadata": {},
   "outputs": [
    {
     "data": {
      "text/html": [
       "<div>\n",
       "<style scoped>\n",
       "    .dataframe tbody tr th:only-of-type {\n",
       "        vertical-align: middle;\n",
       "    }\n",
       "\n",
       "    .dataframe tbody tr th {\n",
       "        vertical-align: top;\n",
       "    }\n",
       "\n",
       "    .dataframe thead th {\n",
       "        text-align: right;\n",
       "    }\n",
       "</style>\n",
       "<table border=\"1\" class=\"dataframe\">\n",
       "  <thead>\n",
       "    <tr style=\"text-align: right;\">\n",
       "      <th></th>\n",
       "      <th>id_prod</th>\n",
       "      <th>year</th>\n",
       "      <th>month</th>\n",
       "      <th>day</th>\n",
       "      <th>time</th>\n",
       "      <th>session_id</th>\n",
       "      <th>client_id</th>\n",
       "      <th>quantity_sold</th>\n",
       "      <th>product_id</th>\n",
       "      <th>category</th>\n",
       "      <th>sub_category</th>\n",
       "      <th>price</th>\n",
       "      <th>stock_quantity</th>\n",
       "      <th>sex</th>\n",
       "      <th>birth</th>\n",
       "      <th>age</th>\n",
       "    </tr>\n",
       "  </thead>\n",
       "  <tbody>\n",
       "    <tr>\n",
       "      <th>0</th>\n",
       "      <td>0_1483</td>\n",
       "      <td>2021</td>\n",
       "      <td>April</td>\n",
       "      <td>10</td>\n",
       "      <td>18:37:28</td>\n",
       "      <td>s_18746</td>\n",
       "      <td>c_4450</td>\n",
       "      <td>5</td>\n",
       "      <td>0_1483</td>\n",
       "      <td>Vêtements</td>\n",
       "      <td>T-shirts</td>\n",
       "      <td>4.99</td>\n",
       "      <td>48</td>\n",
       "      <td>f</td>\n",
       "      <td>1977</td>\n",
       "      <td>47</td>\n",
       "    </tr>\n",
       "    <tr>\n",
       "      <th>1</th>\n",
       "      <td>2_226</td>\n",
       "      <td>2022</td>\n",
       "      <td>February</td>\n",
       "      <td>3</td>\n",
       "      <td>01:55:53</td>\n",
       "      <td>s_159142</td>\n",
       "      <td>c_277</td>\n",
       "      <td>6</td>\n",
       "      <td>2_226</td>\n",
       "      <td>Montres</td>\n",
       "      <td>Montres connectées</td>\n",
       "      <td>65.75</td>\n",
       "      <td>63</td>\n",
       "      <td>f</td>\n",
       "      <td>2000</td>\n",
       "      <td>24</td>\n",
       "    </tr>\n",
       "    <tr>\n",
       "      <th>2</th>\n",
       "      <td>1_374</td>\n",
       "      <td>2021</td>\n",
       "      <td>September</td>\n",
       "      <td>23</td>\n",
       "      <td>15:13:46</td>\n",
       "      <td>s_94290</td>\n",
       "      <td>c_4270</td>\n",
       "      <td>3</td>\n",
       "      <td>1_374</td>\n",
       "      <td>Accessoires</td>\n",
       "      <td>Sacs à main</td>\n",
       "      <td>10.71</td>\n",
       "      <td>97</td>\n",
       "      <td>f</td>\n",
       "      <td>1979</td>\n",
       "      <td>45</td>\n",
       "    </tr>\n",
       "    <tr>\n",
       "      <th>3</th>\n",
       "      <td>0_2186</td>\n",
       "      <td>2021</td>\n",
       "      <td>October</td>\n",
       "      <td>17</td>\n",
       "      <td>03:27:18</td>\n",
       "      <td>s_105936</td>\n",
       "      <td>c_4597</td>\n",
       "      <td>8</td>\n",
       "      <td>0_2186</td>\n",
       "      <td>Vêtements</td>\n",
       "      <td>T-shirts</td>\n",
       "      <td>4.20</td>\n",
       "      <td>57</td>\n",
       "      <td>m</td>\n",
       "      <td>1963</td>\n",
       "      <td>61</td>\n",
       "    </tr>\n",
       "    <tr>\n",
       "      <th>4</th>\n",
       "      <td>0_1351</td>\n",
       "      <td>2021</td>\n",
       "      <td>July</td>\n",
       "      <td>17</td>\n",
       "      <td>20:34:25</td>\n",
       "      <td>s_63642</td>\n",
       "      <td>c_1242</td>\n",
       "      <td>2</td>\n",
       "      <td>0_1351</td>\n",
       "      <td>Vêtements</td>\n",
       "      <td>T-shirts</td>\n",
       "      <td>8.99</td>\n",
       "      <td>59</td>\n",
       "      <td>f</td>\n",
       "      <td>1980</td>\n",
       "      <td>44</td>\n",
       "    </tr>\n",
       "  </tbody>\n",
       "</table>\n",
       "</div>"
      ],
      "text/plain": [
       "  id_prod  year      month  day      time session_id client_id  quantity_sold  \\\n",
       "0  0_1483  2021      April   10  18:37:28    s_18746    c_4450              5   \n",
       "1   2_226  2022   February    3  01:55:53   s_159142     c_277              6   \n",
       "2   1_374  2021  September   23  15:13:46    s_94290    c_4270              3   \n",
       "3  0_2186  2021    October   17  03:27:18   s_105936    c_4597              8   \n",
       "4  0_1351  2021       July   17  20:34:25    s_63642    c_1242              2   \n",
       "\n",
       "  product_id     category        sub_category  price  stock_quantity sex  \\\n",
       "0     0_1483    Vêtements            T-shirts   4.99              48   f   \n",
       "1      2_226      Montres  Montres connectées  65.75              63   f   \n",
       "2      1_374  Accessoires         Sacs à main  10.71              97   f   \n",
       "3     0_2186    Vêtements            T-shirts   4.20              57   m   \n",
       "4     0_1351    Vêtements            T-shirts   8.99              59   f   \n",
       "\n",
       "   birth  age  \n",
       "0   1977   47  \n",
       "1   2000   24  \n",
       "2   1979   45  \n",
       "3   1963   61  \n",
       "4   1980   44  "
      ]
     },
     "execution_count": 75,
     "metadata": {},
     "output_type": "execute_result"
    }
   ],
   "source": [
    "final_merge.head()"
   ]
  },
  {
   "cell_type": "code",
   "execution_count": 76,
   "id": "e3da4e62",
   "metadata": {},
   "outputs": [
    {
     "data": {
      "text/plain": [
       "(336713, 16)"
      ]
     },
     "execution_count": 76,
     "metadata": {},
     "output_type": "execute_result"
    }
   ],
   "source": [
    "final_merge.shape"
   ]
  },
  {
   "cell_type": "code",
   "execution_count": 77,
   "id": "63d893c0",
   "metadata": {},
   "outputs": [],
   "source": [
    "final_merge.to_csv('dataset_clean.csv', index=False)\n"
   ]
  },
  {
   "cell_type": "code",
   "execution_count": null,
   "id": "81f649e1",
   "metadata": {},
   "outputs": [],
   "source": []
  }
 ],
 "metadata": {
  "kernelspec": {
   "display_name": "Python 3",
   "language": "python",
   "name": "python3"
  },
  "language_info": {
   "codemirror_mode": {
    "name": "ipython",
    "version": 3
   },
   "file_extension": ".py",
   "mimetype": "text/x-python",
   "name": "python",
   "nbconvert_exporter": "python",
   "pygments_lexer": "ipython3",
   "version": "3.12.2"
  }
 },
 "nbformat": 4,
 "nbformat_minor": 5
}
